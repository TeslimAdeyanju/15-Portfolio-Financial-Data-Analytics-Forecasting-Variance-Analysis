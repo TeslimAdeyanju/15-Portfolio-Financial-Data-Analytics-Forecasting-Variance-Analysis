{
 "cells": [
  {
   "cell_type": "markdown",
   "metadata": {},
   "source": [
    "# 📂 Financial Data Analytics: Forecasting, Variance Analysis, and Customer Insights  "
   ]
  },
  {
   "cell_type": "markdown",
   "metadata": {},
   "source": [
    "# 📚 1. Introduction\n",
    "\n",
    "\n",
    "<div style=\"font-family: Avenir, sans-serif; font-size: 16px; line-height: 1.6; color: white; background-color: #333; padding: 10px; border-radius: 5px;\">\n",
    "This section deals with the purpose, and problem statement, and contribution of this project to the sphere of knowledge. The project overview is also discussed in this section.\n",
    "\n",
    "</div>"
   ]
  },
  {
   "cell_type": "markdown",
   "metadata": {},
   "source": [
    "## Project Overview \n",
    "____\n",
    "This project leverages a **comprehensive financial dataset** containing **transaction records, customer details, and card information** spanning the **2010s decade**. The dataset is sourced from **Kaggle** and contains **1 million records** with **21 columns**. The dataset is used to perform **financial forecasting, variance analysis, and customer insights extraction**. \n",
    "\n",
    "🔗 **Reference Dataset:** [Financial Transactions Dataset: Analytics (Kaggle)](https://www.kaggle.com)  \n",
    "\n",
    "The goal is to **demonstrate expertise in SQL, Python, Machine Learning, and Power BI** by performing:  \n",
    "- **Financial forecasting** for revenue and expense prediction.  \n",
    "- **Variance analysis** to compare budgeted vs. actual financials.  \n",
    "- **Customer insights extraction** for spending behavior segmentation.  \n",
    "- **Business intelligence reporting** using interactive dashboards.  \n"
   ]
  },
  {
   "cell_type": "markdown",
   "metadata": {},
   "source": [
    "## Key Objectives \n",
    "___\n",
    "\n",
    "\n",
    "By leveraging SQL for data extraction and transformation, Python for machine learning, and Power BI for visualization, the project aims to provide actionable financial insights.\n",
    "\n",
    "- **Financial Forecasting:** The goal is to build predictive models to forecast future revenue and expenses using historical transaction data. This involves extracting and cleaning financial data with SQL, training time-series models (ARIMA, XGBoost, LSTMs), and evaluating model performance using metrics such as RMSE, MAPE, and R² scores.\n",
    "\n",
    "- **Variance Analysis:** The project will compare budgeted vs. actual financial performance to identify key variance drivers. Using SQL, variance percentages will be calculated across customers, merchants, and spending categories. This analysis will help detect high-variance spending patterns and uncover seasonal trends impacting financial deviations.\n",
    "\n",
    "- **Customer Spending & Segmentation:** To understand customer behavior, clustering algorithms (K-Means, DBSCAN) will be used to categorize customers based on spending patterns. The analysis will differentiate between high-value and low-value customers by evaluating transaction trends and creating customer profiles based on spending frequency, transaction volume, and merchant categories.\n",
    "\n",
    "- **Business Intelligence & Reporting:** The final objective is to develop a Power BI dashboard for real-time financial tracking and variance monitoring. SQL-based financial data will be integrated into Power BI to design interactive visualizations for revenue, expense, and variance trends. The dashboard will provide financial decision-makers with insights into spending behavior, revenue trends, and key financial variances.\n",
    "\n",
    "By addressing these objectives, the project will demonstrate a strong foundation in SQL, Python, Machine Learning, and Power BI, ensuring a data-driven approach to financial analysis and forecasting.\n"
   ]
  },
  {
   "cell_type": "markdown",
   "metadata": {},
   "source": [
    "### Importing Libraries\n"
   ]
  },
  {
   "cell_type": "code",
   "execution_count": 1,
   "metadata": {},
   "outputs": [],
   "source": [
    "import pandas as pd\n",
    "import numpy as np\n",
    "import matplotlib.pyplot as plt\n",
    "import seaborn as sns"
   ]
  },
  {
   "cell_type": "markdown",
   "metadata": {},
   "source": []
  },
  {
   "cell_type": "markdown",
   "metadata": {},
   "source": [
    "# 📚 2. Data Integration and SQL Setup\n",
    "\n",
    "<div style=\"font-family: Avenir, sans-serif; font-size: 16px; line-height: 1.6; color: white; background-color: #333; padding: 10px; border-radius: 5px;\">\n",
    "This section focuses on loading the financial transactions dataset into a SQL database, establishing relationships between tables, and ensuring data integrity. The SQL setup is crucial for subsequent data analysis, forecasting, and visualization tasks.\n",
    "\n",
    "</div>"
   ]
  },
  {
   "cell_type": "markdown",
   "metadata": {},
   "source": [
    "\n",
    "## Dataset Schema & Relationships \n",
    "___"
   ]
  },
  {
   "cell_type": "markdown",
   "metadata": {},
   "source": [
    "The dataset consists of multiple interconnected files, requiring structured relationships to ensure seamless data integration. The table below outlines the **primary keys, foreign keys, and purpose** of each dataset component.  \n",
    "\n",
    "| **Dataset**                | **Primary Key**     | **Foreign Key(s) & Relationships**           | **Purpose** |\n",
    "|----------------------------|--------------------|----------------------------------------------|-------------|\n",
    "| `transactions_data.csv`     | `transaction_id`   | `user_id`, `card_id`, `mcc_code`            | Tracks revenue, expenses, and spending details. |\n",
    "| `cards_data.csv`           | `card_id`          | `user_id`                                   | Links transactions to customers via cards. |\n",
    "| `users_data.csv`           | `user_id`          | None                                        | Provides user demographics and account details. |\n",
    "| `mcc_codes.json`           | `mcc_code`         | None                                        | Maps merchant category codes to business types. |\n",
    "| `train_fraud_labels.json`  | `transaction_id`   | None                                        | Labels transactions as fraudulent (1) or legitimate (0). |\n",
    "\n",
    "\n"
   ]
  },
  {
   "cell_type": "markdown",
   "metadata": {},
   "source": [
    "## Dataset Overview\n",
    "___"
   ]
  },
  {
   "cell_type": "markdown",
   "metadata": {},
   "source": [
    "1. **Users Table:**   \n",
    "Contains key demographic and financial information such as current_age, retirement_age, income details, total_debt, and credit_score. These fields are crucial for profiling customers and can serve as features for predicting spending patterns, risk, and future financial behavior.\n",
    "\n",
    "2. **Cards Table:**   \n",
    "Links directly to the users table through user_id and provides additional insights into customer behavior by including details like card_brand, card_type, credit_limit, and security-related attributes (e.g., has_chip, card_on_dark_web). These features can be used to segment customers or detect anomalies in card usage.\n",
    "\n",
    "3. **MCC Codes Table:**   \n",
    "Offers a mapping of merchant category codes to their descriptions, which helps classify transactions. By integrating this table with transactions, you can derive categorical features that highlight spending trends across different merchant types.\n",
    "\n",
    "4. **Transactions Table:**   \n",
    "Serves as the central repository for tracking financial activity, linking users and cards. It records transaction dates, amounts, merchant details, and even error logs. With these, you can compute aggregated metrics (like total spending per customer or monthly revenue trends) and conduct variance analysis (budgeted vs. actual amounts).\n",
    "\n",
    "5. **Fraud Labels Table:**  \n",
    "Provides a target variable for supervised learning tasks, specifically fraud detection. By associating each transaction with a fraud label, you can build models to predict fraudulent behavior based on the integrated features from the other tables.\n",
    "\n",
    "The first step is to load the dataset into a SQL database and establish relationships between the tables to facilitate data retrieval and analysis."
   ]
  },
  {
   "cell_type": "markdown",
   "metadata": {},
   "source": [
    "## Dataset Loading \n",
    "___\n"
   ]
  },
  {
   "cell_type": "markdown",
   "metadata": {},
   "source": [
    "#### 1. Loading dataset: users_data"
   ]
  },
  {
   "cell_type": "code",
   "execution_count": 2,
   "metadata": {},
   "outputs": [
    {
     "data": {
      "application/vnd.microsoft.datawrangler.viewer.v0+json": {
       "columns": [
        {
         "name": "index",
         "rawType": "int64",
         "type": "integer"
        },
        {
         "name": "id",
         "rawType": "int64",
         "type": "integer"
        },
        {
         "name": "current_age",
         "rawType": "int64",
         "type": "integer"
        },
        {
         "name": "retirement_age",
         "rawType": "int64",
         "type": "integer"
        },
        {
         "name": "birth_year",
         "rawType": "int64",
         "type": "integer"
        },
        {
         "name": "birth_month",
         "rawType": "int64",
         "type": "integer"
        },
        {
         "name": "gender",
         "rawType": "object",
         "type": "string"
        },
        {
         "name": "address",
         "rawType": "object",
         "type": "string"
        },
        {
         "name": "latitude",
         "rawType": "float64",
         "type": "float"
        },
        {
         "name": "longitude",
         "rawType": "float64",
         "type": "float"
        },
        {
         "name": "per_capita_income",
         "rawType": "object",
         "type": "string"
        },
        {
         "name": "yearly_income",
         "rawType": "object",
         "type": "string"
        },
        {
         "name": "total_debt",
         "rawType": "object",
         "type": "string"
        },
        {
         "name": "credit_score",
         "rawType": "int64",
         "type": "integer"
        },
        {
         "name": "num_credit_cards",
         "rawType": "int64",
         "type": "integer"
        }
       ],
       "conversionMethod": "pd.DataFrame",
       "ref": "e32fa760-84ef-49a2-8fe6-ea72232b0c4a",
       "rows": [
        [
         "0",
         "825",
         "53",
         "66",
         "1966",
         "11",
         "Female",
         "462 Rose Lane",
         "34.15",
         "-117.76",
         "$29278",
         "$59696",
         "$127613",
         "787",
         "5"
        ],
        [
         "1",
         "1746",
         "53",
         "68",
         "1966",
         "12",
         "Female",
         "3606 Federal Boulevard",
         "40.76",
         "-73.74",
         "$37891",
         "$77254",
         "$191349",
         "701",
         "5"
        ],
        [
         "2",
         "1718",
         "81",
         "67",
         "1938",
         "11",
         "Female",
         "766 Third Drive",
         "34.02",
         "-117.89",
         "$22681",
         "$33483",
         "$196",
         "698",
         "5"
        ],
        [
         "3",
         "708",
         "63",
         "63",
         "1957",
         "1",
         "Female",
         "3 Madison Street",
         "40.71",
         "-73.99",
         "$163145",
         "$249925",
         "$202328",
         "722",
         "4"
        ],
        [
         "4",
         "1164",
         "43",
         "70",
         "1976",
         "9",
         "Male",
         "9620 Valley Stream Drive",
         "37.76",
         "-122.44",
         "$53797",
         "$109687",
         "$183855",
         "675",
         "1"
        ]
       ],
       "shape": {
        "columns": 14,
        "rows": 5
       }
      },
      "text/html": [
       "<div>\n",
       "<style scoped>\n",
       "    .dataframe tbody tr th:only-of-type {\n",
       "        vertical-align: middle;\n",
       "    }\n",
       "\n",
       "    .dataframe tbody tr th {\n",
       "        vertical-align: top;\n",
       "    }\n",
       "\n",
       "    .dataframe thead th {\n",
       "        text-align: right;\n",
       "    }\n",
       "</style>\n",
       "<table border=\"1\" class=\"dataframe\">\n",
       "  <thead>\n",
       "    <tr style=\"text-align: right;\">\n",
       "      <th></th>\n",
       "      <th>id</th>\n",
       "      <th>current_age</th>\n",
       "      <th>retirement_age</th>\n",
       "      <th>birth_year</th>\n",
       "      <th>birth_month</th>\n",
       "      <th>gender</th>\n",
       "      <th>address</th>\n",
       "      <th>latitude</th>\n",
       "      <th>longitude</th>\n",
       "      <th>per_capita_income</th>\n",
       "      <th>yearly_income</th>\n",
       "      <th>total_debt</th>\n",
       "      <th>credit_score</th>\n",
       "      <th>num_credit_cards</th>\n",
       "    </tr>\n",
       "  </thead>\n",
       "  <tbody>\n",
       "    <tr>\n",
       "      <th>0</th>\n",
       "      <td>825</td>\n",
       "      <td>53</td>\n",
       "      <td>66</td>\n",
       "      <td>1966</td>\n",
       "      <td>11</td>\n",
       "      <td>Female</td>\n",
       "      <td>462 Rose Lane</td>\n",
       "      <td>34.15</td>\n",
       "      <td>-117.76</td>\n",
       "      <td>$29278</td>\n",
       "      <td>$59696</td>\n",
       "      <td>$127613</td>\n",
       "      <td>787</td>\n",
       "      <td>5</td>\n",
       "    </tr>\n",
       "    <tr>\n",
       "      <th>1</th>\n",
       "      <td>1746</td>\n",
       "      <td>53</td>\n",
       "      <td>68</td>\n",
       "      <td>1966</td>\n",
       "      <td>12</td>\n",
       "      <td>Female</td>\n",
       "      <td>3606 Federal Boulevard</td>\n",
       "      <td>40.76</td>\n",
       "      <td>-73.74</td>\n",
       "      <td>$37891</td>\n",
       "      <td>$77254</td>\n",
       "      <td>$191349</td>\n",
       "      <td>701</td>\n",
       "      <td>5</td>\n",
       "    </tr>\n",
       "    <tr>\n",
       "      <th>2</th>\n",
       "      <td>1718</td>\n",
       "      <td>81</td>\n",
       "      <td>67</td>\n",
       "      <td>1938</td>\n",
       "      <td>11</td>\n",
       "      <td>Female</td>\n",
       "      <td>766 Third Drive</td>\n",
       "      <td>34.02</td>\n",
       "      <td>-117.89</td>\n",
       "      <td>$22681</td>\n",
       "      <td>$33483</td>\n",
       "      <td>$196</td>\n",
       "      <td>698</td>\n",
       "      <td>5</td>\n",
       "    </tr>\n",
       "    <tr>\n",
       "      <th>3</th>\n",
       "      <td>708</td>\n",
       "      <td>63</td>\n",
       "      <td>63</td>\n",
       "      <td>1957</td>\n",
       "      <td>1</td>\n",
       "      <td>Female</td>\n",
       "      <td>3 Madison Street</td>\n",
       "      <td>40.71</td>\n",
       "      <td>-73.99</td>\n",
       "      <td>$163145</td>\n",
       "      <td>$249925</td>\n",
       "      <td>$202328</td>\n",
       "      <td>722</td>\n",
       "      <td>4</td>\n",
       "    </tr>\n",
       "    <tr>\n",
       "      <th>4</th>\n",
       "      <td>1164</td>\n",
       "      <td>43</td>\n",
       "      <td>70</td>\n",
       "      <td>1976</td>\n",
       "      <td>9</td>\n",
       "      <td>Male</td>\n",
       "      <td>9620 Valley Stream Drive</td>\n",
       "      <td>37.76</td>\n",
       "      <td>-122.44</td>\n",
       "      <td>$53797</td>\n",
       "      <td>$109687</td>\n",
       "      <td>$183855</td>\n",
       "      <td>675</td>\n",
       "      <td>1</td>\n",
       "    </tr>\n",
       "  </tbody>\n",
       "</table>\n",
       "</div>"
      ],
      "text/plain": [
       "     id  current_age  retirement_age  birth_year  birth_month  gender  \\\n",
       "0   825           53              66        1966           11  Female   \n",
       "1  1746           53              68        1966           12  Female   \n",
       "2  1718           81              67        1938           11  Female   \n",
       "3   708           63              63        1957            1  Female   \n",
       "4  1164           43              70        1976            9    Male   \n",
       "\n",
       "                    address  latitude  longitude per_capita_income  \\\n",
       "0             462 Rose Lane     34.15    -117.76            $29278   \n",
       "1    3606 Federal Boulevard     40.76     -73.74            $37891   \n",
       "2           766 Third Drive     34.02    -117.89            $22681   \n",
       "3          3 Madison Street     40.71     -73.99           $163145   \n",
       "4  9620 Valley Stream Drive     37.76    -122.44            $53797   \n",
       "\n",
       "  yearly_income total_debt  credit_score  num_credit_cards  \n",
       "0        $59696    $127613           787                 5  \n",
       "1        $77254    $191349           701                 5  \n",
       "2        $33483       $196           698                 5  \n",
       "3       $249925    $202328           722                 4  \n",
       "4       $109687    $183855           675                 1  "
      ]
     },
     "execution_count": 2,
     "metadata": {},
     "output_type": "execute_result"
    }
   ],
   "source": [
    "# Load users data\n",
    "users = pd.read_csv(r'/Users/teslim/Large_data_set/users_data.csv')\n",
    "users.head()"
   ]
  },
  {
   "cell_type": "code",
   "execution_count": 3,
   "metadata": {},
   "outputs": [
    {
     "name": "stdout",
     "output_type": "stream",
     "text": [
      "<class 'pandas.core.frame.DataFrame'>\n",
      "RangeIndex: 2000 entries, 0 to 1999\n",
      "Data columns (total 14 columns):\n",
      " #   Column             Non-Null Count  Dtype  \n",
      "---  ------             --------------  -----  \n",
      " 0   id                 2000 non-null   int64  \n",
      " 1   current_age        2000 non-null   int64  \n",
      " 2   retirement_age     2000 non-null   int64  \n",
      " 3   birth_year         2000 non-null   int64  \n",
      " 4   birth_month        2000 non-null   int64  \n",
      " 5   gender             2000 non-null   object \n",
      " 6   address            2000 non-null   object \n",
      " 7   latitude           2000 non-null   float64\n",
      " 8   longitude          2000 non-null   float64\n",
      " 9   per_capita_income  2000 non-null   object \n",
      " 10  yearly_income      2000 non-null   object \n",
      " 11  total_debt         2000 non-null   object \n",
      " 12  credit_score       2000 non-null   int64  \n",
      " 13  num_credit_cards   2000 non-null   int64  \n",
      "dtypes: float64(2), int64(7), object(5)\n",
      "memory usage: 218.9+ KB\n"
     ]
    }
   ],
   "source": [
    "# Check the data types of the columns\n",
    "users.info()"
   ]
  },
  {
   "cell_type": "code",
   "execution_count": 4,
   "metadata": {},
   "outputs": [
    {
     "data": {
      "text/plain": [
       "id                   0\n",
       "current_age          0\n",
       "retirement_age       0\n",
       "birth_year           0\n",
       "birth_month          0\n",
       "gender               0\n",
       "address              0\n",
       "latitude             0\n",
       "longitude            0\n",
       "per_capita_income    0\n",
       "yearly_income        0\n",
       "total_debt           0\n",
       "credit_score         0\n",
       "num_credit_cards     0\n",
       "dtype: int64"
      ]
     },
     "execution_count": 4,
     "metadata": {},
     "output_type": "execute_result"
    }
   ],
   "source": [
    "# Check for missing values\n",
    "users.isnull().sum()"
   ]
  },
  {
   "cell_type": "markdown",
   "metadata": {},
   "source": [
    "It is crucial to convert the columns to their appropriate data types based on the nature of the data. This step ensures accurate analysis and processing of the information"
   ]
  },
  {
   "cell_type": "code",
   "execution_count": 5,
   "metadata": {},
   "outputs": [],
   "source": [
    "def clean_users_data(data):\n",
    "    data['per_capita_income'] = data['per_capita_income'].str.replace(\"$\", \"\").str.replace(\",\", \"\").astype(float)\n",
    "    data['yearly_income'] = data['yearly_income'].str.replace(\"$\", \"\").str.replace(\",\", \"\").astype(float)\n",
    "    data['total_debt'] = data['total_debt'].str.replace(\"$\", \"\").str.replace(\",\", \"\").astype(float)\n",
    "    \n",
    "    return data\n",
    "\n",
    "# Clean users data\n",
    "users_data = clean_users_data(users)\n"
   ]
  },
  {
   "cell_type": "code",
   "execution_count": 6,
   "metadata": {},
   "outputs": [
    {
     "name": "stdout",
     "output_type": "stream",
     "text": [
      "<class 'pandas.core.frame.DataFrame'>\n",
      "RangeIndex: 2000 entries, 0 to 1999\n",
      "Data columns (total 14 columns):\n",
      " #   Column             Non-Null Count  Dtype  \n",
      "---  ------             --------------  -----  \n",
      " 0   id                 2000 non-null   int64  \n",
      " 1   current_age        2000 non-null   int64  \n",
      " 2   retirement_age     2000 non-null   int64  \n",
      " 3   birth_year         2000 non-null   int64  \n",
      " 4   birth_month        2000 non-null   int64  \n",
      " 5   gender             2000 non-null   object \n",
      " 6   address            2000 non-null   object \n",
      " 7   latitude           2000 non-null   float64\n",
      " 8   longitude          2000 non-null   float64\n",
      " 9   per_capita_income  2000 non-null   float64\n",
      " 10  yearly_income      2000 non-null   float64\n",
      " 11  total_debt         2000 non-null   float64\n",
      " 12  credit_score       2000 non-null   int64  \n",
      " 13  num_credit_cards   2000 non-null   int64  \n",
      "dtypes: float64(5), int64(7), object(2)\n",
      "memory usage: 218.9+ KB\n"
     ]
    }
   ],
   "source": [
    "# check the data types after cleaning\n",
    "users_data.info()"
   ]
  },
  {
   "cell_type": "code",
   "execution_count": 15,
   "metadata": {},
   "outputs": [
    {
     "data": {
      "image/png": "[encoded data removed]",
      "text/plain": [
       "<Figure size 2000x1500 with 12 Axes>"
      ]
     },
     "metadata": {},
     "output_type": "display_data"
    }
   ],
   "source": [
    "users_data.hist(bins=20, figsize=(20, 15))\n",
    "plt.show()\n"
   ]
  },
  {
   "cell_type": "markdown",
   "metadata": {},
   "source": [
    "____"
   ]
  },
  {
   "cell_type": "markdown",
   "metadata": {},
   "source": [
    "#### 2. Loading dataset: card_data"
   ]
  },
  {
   "cell_type": "code",
   "execution_count": 16,
   "metadata": {},
   "outputs": [
    {
     "data": {
      "application/vnd.microsoft.datawrangler.viewer.v0+json": {
       "columns": [
        {
         "name": "index",
         "rawType": "int64",
         "type": "integer"
        },
        {
         "name": "id",
         "rawType": "int64",
         "type": "integer"
        },
        {
         "name": "client_id",
         "rawType": "int64",
         "type": "integer"
        },
        {
         "name": "card_brand",
         "rawType": "object",
         "type": "string"
        },
        {
         "name": "card_type",
         "rawType": "object",
         "type": "string"
        },
        {
         "name": "card_number",
         "rawType": "int64",
         "type": "integer"
        },
        {
         "name": "expires",
         "rawType": "object",
         "type": "string"
        },
        {
         "name": "cvv",
         "rawType": "int64",
         "type": "integer"
        },
        {
         "name": "has_chip",
         "rawType": "object",
         "type": "string"
        },
        {
         "name": "num_cards_issued",
         "rawType": "int64",
         "type": "integer"
        },
        {
         "name": "credit_limit",
         "rawType": "object",
         "type": "string"
        },
        {
         "name": "acct_open_date",
         "rawType": "object",
         "type": "string"
        },
        {
         "name": "year_pin_last_changed",
         "rawType": "int64",
         "type": "integer"
        },
        {
         "name": "card_on_dark_web",
         "rawType": "object",
         "type": "string"
        }
       ],
       "conversionMethod": "pd.DataFrame",
       "ref": "d6a6deeb-85da-4921-ad4a-74d9c3630f52",
       "rows": [
        [
         "0",
         "4524",
         "825",
         "Visa",
         "Debit",
         "4344676511950444",
         "12/2022",
         "623",
         "YES",
         "2",
         "$24295",
         "09/2002",
         "2008",
         "No"
        ],
        [
         "1",
         "2731",
         "825",
         "Visa",
         "Debit",
         "4956965974959986",
         "12/2020",
         "393",
         "YES",
         "2",
         "$21968",
         "04/2014",
         "2014",
         "No"
        ],
        [
         "2",
         "3701",
         "825",
         "Visa",
         "Debit",
         "4582313478255491",
         "02/2024",
         "719",
         "YES",
         "2",
         "$46414",
         "07/2003",
         "2004",
         "No"
        ],
        [
         "3",
         "42",
         "825",
         "Visa",
         "Credit",
         "4879494103069057",
         "08/2024",
         "693",
         "NO",
         "1",
         "$12400",
         "01/2003",
         "2012",
         "No"
        ],
        [
         "4",
         "4659",
         "825",
         "Mastercard",
         "Debit (Prepaid)",
         "5722874738736011",
         "03/2009",
         "75",
         "YES",
         "1",
         "$28",
         "09/2008",
         "2009",
         "No"
        ]
       ],
       "shape": {
        "columns": 13,
        "rows": 5
       }
      },
      "text/html": [
       "<div>\n",
       "<style scoped>\n",
       "    .dataframe tbody tr th:only-of-type {\n",
       "        vertical-align: middle;\n",
       "    }\n",
       "\n",
       "    .dataframe tbody tr th {\n",
       "        vertical-align: top;\n",
       "    }\n",
       "\n",
       "    .dataframe thead th {\n",
       "        text-align: right;\n",
       "    }\n",
       "</style>\n",
       "<table border=\"1\" class=\"dataframe\">\n",
       "  <thead>\n",
       "    <tr style=\"text-align: right;\">\n",
       "      <th></th>\n",
       "      <th>id</th>\n",
       "      <th>client_id</th>\n",
       "      <th>card_brand</th>\n",
       "      <th>card_type</th>\n",
       "      <th>card_number</th>\n",
       "      <th>expires</th>\n",
       "      <th>cvv</th>\n",
       "      <th>has_chip</th>\n",
       "      <th>num_cards_issued</th>\n",
       "      <th>credit_limit</th>\n",
       "      <th>acct_open_date</th>\n",
       "      <th>year_pin_last_changed</th>\n",
       "      <th>card_on_dark_web</th>\n",
       "    </tr>\n",
       "  </thead>\n",
       "  <tbody>\n",
       "    <tr>\n",
       "      <th>0</th>\n",
       "      <td>4524</td>\n",
       "      <td>825</td>\n",
       "      <td>Visa</td>\n",
       "      <td>Debit</td>\n",
       "      <td>4344676511950444</td>\n",
       "      <td>12/2022</td>\n",
       "      <td>623</td>\n",
       "      <td>YES</td>\n",
       "      <td>2</td>\n",
       "      <td>$24295</td>\n",
       "      <td>09/2002</td>\n",
       "      <td>2008</td>\n",
       "      <td>No</td>\n",
       "    </tr>\n",
       "    <tr>\n",
       "      <th>1</th>\n",
       "      <td>2731</td>\n",
       "      <td>825</td>\n",
       "      <td>Visa</td>\n",
       "      <td>Debit</td>\n",
       "      <td>4956965974959986</td>\n",
       "      <td>12/2020</td>\n",
       "      <td>393</td>\n",
       "      <td>YES</td>\n",
       "      <td>2</td>\n",
       "      <td>$21968</td>\n",
       "      <td>04/2014</td>\n",
       "      <td>2014</td>\n",
       "      <td>No</td>\n",
       "    </tr>\n",
       "    <tr>\n",
       "      <th>2</th>\n",
       "      <td>3701</td>\n",
       "      <td>825</td>\n",
       "      <td>Visa</td>\n",
       "      <td>Debit</td>\n",
       "      <td>4582313478255491</td>\n",
       "      <td>02/2024</td>\n",
       "      <td>719</td>\n",
       "      <td>YES</td>\n",
       "      <td>2</td>\n",
       "      <td>$46414</td>\n",
       "      <td>07/2003</td>\n",
       "      <td>2004</td>\n",
       "      <td>No</td>\n",
       "    </tr>\n",
       "    <tr>\n",
       "      <th>3</th>\n",
       "      <td>42</td>\n",
       "      <td>825</td>\n",
       "      <td>Visa</td>\n",
       "      <td>Credit</td>\n",
       "      <td>4879494103069057</td>\n",
       "      <td>08/2024</td>\n",
       "      <td>693</td>\n",
       "      <td>NO</td>\n",
       "      <td>1</td>\n",
       "      <td>$12400</td>\n",
       "      <td>01/2003</td>\n",
       "      <td>2012</td>\n",
       "      <td>No</td>\n",
       "    </tr>\n",
       "    <tr>\n",
       "      <th>4</th>\n",
       "      <td>4659</td>\n",
       "      <td>825</td>\n",
       "      <td>Mastercard</td>\n",
       "      <td>Debit (Prepaid)</td>\n",
       "      <td>5722874738736011</td>\n",
       "      <td>03/2009</td>\n",
       "      <td>75</td>\n",
       "      <td>YES</td>\n",
       "      <td>1</td>\n",
       "      <td>$28</td>\n",
       "      <td>09/2008</td>\n",
       "      <td>2009</td>\n",
       "      <td>No</td>\n",
       "    </tr>\n",
       "  </tbody>\n",
       "</table>\n",
       "</div>"
      ],
      "text/plain": [
       "     id  client_id  card_brand        card_type       card_number  expires  \\\n",
       "0  4524        825        Visa            Debit  4344676511950444  12/2022   \n",
       "1  2731        825        Visa            Debit  4956965974959986  12/2020   \n",
       "2  3701        825        Visa            Debit  4582313478255491  02/2024   \n",
       "3    42        825        Visa           Credit  4879494103069057  08/2024   \n",
       "4  4659        825  Mastercard  Debit (Prepaid)  5722874738736011  03/2009   \n",
       "\n",
       "   cvv has_chip  num_cards_issued credit_limit acct_open_date  \\\n",
       "0  623      YES                 2       $24295        09/2002   \n",
       "1  393      YES                 2       $21968        04/2014   \n",
       "2  719      YES                 2       $46414        07/2003   \n",
       "3  693       NO                 1       $12400        01/2003   \n",
       "4   75      YES                 1          $28        09/2008   \n",
       "\n",
       "   year_pin_last_changed card_on_dark_web  \n",
       "0                   2008               No  \n",
       "1                   2014               No  \n",
       "2                   2004               No  \n",
       "3                   2012               No  \n",
       "4                   2009               No  "
      ]
     },
     "execution_count": 16,
     "metadata": {},
     "output_type": "execute_result"
    }
   ],
   "source": [
    "# Load card data\n",
    "cards = pd.read_csv(r'/Users/teslim/Large_data_set/cards_data.csv')\n",
    "cards.head()"
   ]
  },
  {
   "cell_type": "code",
   "execution_count": 17,
   "metadata": {},
   "outputs": [
    {
     "name": "stdout",
     "output_type": "stream",
     "text": [
      "<class 'pandas.core.frame.DataFrame'>\n",
      "RangeIndex: 6146 entries, 0 to 6145\n",
      "Data columns (total 13 columns):\n",
      " #   Column                 Non-Null Count  Dtype \n",
      "---  ------                 --------------  ----- \n",
      " 0   id                     6146 non-null   int64 \n",
      " 1   client_id              6146 non-null   int64 \n",
      " 2   card_brand             6146 non-null   object\n",
      " 3   card_type              6146 non-null   object\n",
      " 4   card_number            6146 non-null   int64 \n",
      " 5   expires                6146 non-null   object\n",
      " 6   cvv                    6146 non-null   int64 \n",
      " 7   has_chip               6146 non-null   object\n",
      " 8   num_cards_issued       6146 non-null   int64 \n",
      " 9   credit_limit           6146 non-null   object\n",
      " 10  acct_open_date         6146 non-null   object\n",
      " 11  year_pin_last_changed  6146 non-null   int64 \n",
      " 12  card_on_dark_web       6146 non-null   object\n",
      "dtypes: int64(6), object(7)\n",
      "memory usage: 624.3+ KB\n"
     ]
    }
   ],
   "source": [
    "# check the data types\n",
    "cards.info()"
   ]
  },
  {
   "cell_type": "code",
   "execution_count": 18,
   "metadata": {},
   "outputs": [
    {
     "data": {
      "text/plain": [
       "id                       0\n",
       "client_id                0\n",
       "card_brand               0\n",
       "card_type                0\n",
       "card_number              0\n",
       "expires                  0\n",
       "cvv                      0\n",
       "has_chip                 0\n",
       "num_cards_issued         0\n",
       "credit_limit             0\n",
       "acct_open_date           0\n",
       "year_pin_last_changed    0\n",
       "card_on_dark_web         0\n",
       "dtype: int64"
      ]
     },
     "execution_count": 18,
     "metadata": {},
     "output_type": "execute_result"
    }
   ],
   "source": [
    "# Check for missing values\n",
    "cards.isnull().sum()"
   ]
  },
  {
   "cell_type": "markdown",
   "metadata": {},
   "source": [
    "Converting columns to appropriate data types for accurate analysis and processing"
   ]
  },
  {
   "cell_type": "code",
   "execution_count": 19,
   "metadata": {},
   "outputs": [],
   "source": [
    "import pandas as pd\n",
    "\n",
    "def clean_cards_data(data):\n",
    "    \"\"\"\n",
    "    Cleans the cards data:\n",
    "    1. Converts 'expires' and 'acct_open_date' to datetime.\n",
    "    2. Cleans and converts 'credit_limit' to float.\n",
    "    3. Converts 'year_pin_last_changed' to integer (since it contains only years).\n",
    "    4. Handles missing values.\n",
    "    \"\"\"\n",
    "    # Convert 'expires' to datetime (assuming format is 'MM/YYYY')\n",
    "    data['expires'] = pd.to_datetime(data['expires'], format='%m/%Y', errors='coerce')\n",
    "    \n",
    "\n",
    "    data['credit_limit'] = (data['credit_limit'].str.replace(r'[$,]', '', regex=True).astype(float))\n",
    "    \n",
    "    # Convert 'acct_open_date' to datetime (assuming format is 'MM/DD/YYYY')\n",
    "    data['acct_open_date'] = pd.to_datetime(data['acct_open_date'], format='%m/%d/%Y', errors='coerce')\n",
    "    \n",
    "    # Convert 'year_pin_last_changed' to integer (since it contains only years)\n",
    "    data['year_pin_last_changed'] = pd.to_numeric(data['year_pin_last_changed'], errors='coerce').astype('Int64')  # Use 'Int64' for nullable integer type\n",
    "    \n",
    "    # Handle missing values (optional, depending on your use case)\n",
    "    data['expires'] = data['expires'].fillna(pd.NaT)  # Fill missing datetime with NaT\n",
    "    data['credit_limit'] = data['credit_limit'].fillna(0.0)  # Fill missing credit limits with 0.0\n",
    "    data['acct_open_date'] = data['acct_open_date'].fillna(pd.NaT)  # Fill missing datetime with NaT\n",
    "    data['year_pin_last_changed'] = data['year_pin_last_changed'].fillna(0)  # Fill missing years with 0\n",
    "    \n",
    "    return data\n",
    "\n",
    "# Clean cards data\n",
    "cards_data = clean_cards_data(cards)"
   ]
  },
  {
   "cell_type": "code",
   "execution_count": 20,
   "metadata": {},
   "outputs": [
    {
     "name": "stdout",
     "output_type": "stream",
     "text": [
      "<class 'pandas.core.frame.DataFrame'>\n",
      "RangeIndex: 6146 entries, 0 to 6145\n",
      "Data columns (total 13 columns):\n",
      " #   Column                 Non-Null Count  Dtype         \n",
      "---  ------                 --------------  -----         \n",
      " 0   id                     6146 non-null   int64         \n",
      " 1   client_id              6146 non-null   int64         \n",
      " 2   card_brand             6146 non-null   object        \n",
      " 3   card_type              6146 non-null   object        \n",
      " 4   card_number            6146 non-null   int64         \n",
      " 5   expires                6146 non-null   datetime64[ns]\n",
      " 6   cvv                    6146 non-null   int64         \n",
      " 7   has_chip               6146 non-null   object        \n",
      " 8   num_cards_issued       6146 non-null   int64         \n",
      " 9   credit_limit           6146 non-null   float64       \n",
      " 10  acct_open_date         0 non-null      datetime64[ns]\n",
      " 11  year_pin_last_changed  6146 non-null   Int64         \n",
      " 12  card_on_dark_web       6146 non-null   object        \n",
      "dtypes: Int64(1), datetime64[ns](2), float64(1), int64(5), object(4)\n",
      "memory usage: 630.3+ KB\n"
     ]
    }
   ],
   "source": [
    "cards_data.info()"
   ]
  },
  {
   "cell_type": "code",
   "execution_count": 21,
   "metadata": {},
   "outputs": [
    {
     "data": {
      "image/png": "[encoded data removed]",
      "text/plain": [
       "<Figure size 2000x1500 with 9 Axes>"
      ]
     },
     "metadata": {},
     "output_type": "display_data"
    }
   ],
   "source": [
    "cards_data.hist(bins=20, figsize=(20, 15))\n",
    "plt.show()"
   ]
  },
  {
   "cell_type": "markdown",
   "metadata": {},
   "source": [
    "____"
   ]
  },
  {
   "cell_type": "markdown",
   "metadata": {},
   "source": [
    "#### 3. Loading dataset: mcc_codes_data"
   ]
  },
  {
   "cell_type": "code",
   "execution_count": 22,
   "metadata": {},
   "outputs": [
    {
     "data": {
      "application/vnd.microsoft.datawrangler.viewer.v0+json": {
       "columns": [
        {
         "name": "index",
         "rawType": "int64",
         "type": "integer"
        },
        {
         "name": "0",
         "rawType": "object",
         "type": "string"
        }
       ],
       "conversionMethod": "pd.DataFrame",
       "ref": "6a2764f3-5ffe-41e6-9380-6ff83f4e8edd",
       "rows": [
        [
         "5812",
         "Eating Places and Restaurants"
        ],
        [
         "5541",
         "Service Stations"
        ],
        [
         "7996",
         "Amusement Parks, Carnivals, Circuses"
        ],
        [
         "5411",
         "Grocery Stores, Supermarkets"
        ],
        [
         "4784",
         "Tolls and Bridge Fees"
        ]
       ],
       "shape": {
        "columns": 1,
        "rows": 5
       }
      },
      "text/html": [
       "<div>\n",
       "<style scoped>\n",
       "    .dataframe tbody tr th:only-of-type {\n",
       "        vertical-align: middle;\n",
       "    }\n",
       "\n",
       "    .dataframe tbody tr th {\n",
       "        vertical-align: top;\n",
       "    }\n",
       "\n",
       "    .dataframe thead th {\n",
       "        text-align: right;\n",
       "    }\n",
       "</style>\n",
       "<table border=\"1\" class=\"dataframe\">\n",
       "  <thead>\n",
       "    <tr style=\"text-align: right;\">\n",
       "      <th></th>\n",
       "      <th>0</th>\n",
       "    </tr>\n",
       "  </thead>\n",
       "  <tbody>\n",
       "    <tr>\n",
       "      <th>5812</th>\n",
       "      <td>Eating Places and Restaurants</td>\n",
       "    </tr>\n",
       "    <tr>\n",
       "      <th>5541</th>\n",
       "      <td>Service Stations</td>\n",
       "    </tr>\n",
       "    <tr>\n",
       "      <th>7996</th>\n",
       "      <td>Amusement Parks, Carnivals, Circuses</td>\n",
       "    </tr>\n",
       "    <tr>\n",
       "      <th>5411</th>\n",
       "      <td>Grocery Stores, Supermarkets</td>\n",
       "    </tr>\n",
       "    <tr>\n",
       "      <th>4784</th>\n",
       "      <td>Tolls and Bridge Fees</td>\n",
       "    </tr>\n",
       "  </tbody>\n",
       "</table>\n",
       "</div>"
      ],
      "text/plain": [
       "                                         0\n",
       "5812         Eating Places and Restaurants\n",
       "5541                      Service Stations\n",
       "7996  Amusement Parks, Carnivals, Circuses\n",
       "5411          Grocery Stores, Supermarkets\n",
       "4784                 Tolls and Bridge Fees"
      ]
     },
     "execution_count": 22,
     "metadata": {},
     "output_type": "execute_result"
    }
   ],
   "source": [
    "# Load mcc codes data\n",
    "mcc_codes_data = pd.read_json(\"/Users/teslim/Large_data_set/mcc_codes.json\", orient='index')\n",
    "mcc_codes_data.head()"
   ]
  },
  {
   "cell_type": "code",
   "execution_count": 23,
   "metadata": {},
   "outputs": [
    {
     "name": "stdout",
     "output_type": "stream",
     "text": [
      "<class 'pandas.core.frame.DataFrame'>\n",
      "Index: 109 entries, 5812 to 5733\n",
      "Data columns (total 1 columns):\n",
      " #   Column  Non-Null Count  Dtype \n",
      "---  ------  --------------  ----- \n",
      " 0   0       109 non-null    object\n",
      "dtypes: object(1)\n",
      "memory usage: 1.7+ KB\n"
     ]
    }
   ],
   "source": [
    "mcc_codes_data.info()"
   ]
  },
  {
   "cell_type": "code",
   "execution_count": 24,
   "metadata": {},
   "outputs": [
    {
     "data": {
      "text/plain": [
       "0    0\n",
       "dtype: int64"
      ]
     },
     "execution_count": 24,
     "metadata": {},
     "output_type": "execute_result"
    }
   ],
   "source": [
    "# check for missing values\n",
    "mcc_codes_data.isnull().sum()"
   ]
  },
  {
   "cell_type": "code",
   "execution_count": null,
   "metadata": {},
   "outputs": [
    {
     "data": {
      "text/plain": [
       "0                                             \n",
       "Passenger Railways                                2\n",
       "Accounting, Auditing, and Bookkeeping Services    1\n",
       "Miscellaneous Metals                              1\n",
       "Podiatrists                                       1\n",
       "Package Stores, Beer, Wine, Liquor                1\n",
       "                                                 ..\n",
       "Drinking Places (Alcoholic Beverages)             1\n",
       "Doctors, Physicians                               1\n",
       "Discount Stores                                   1\n",
       "Digital Goods - Media, Books, Apps                1\n",
       "Women's Ready-To-Wear Stores                      1\n",
       "Name: count, Length: 108, dtype: int64"
      ]
     },
     "execution_count": 29,
     "metadata": {},
     "output_type": "execute_result"
    }
   ],
   "source": [
    "mcc_codes_data.value_counts()"
   ]
  },
  {
   "cell_type": "code",
   "execution_count": 34,
   "metadata": {},
   "outputs": [
    {
     "data": {
      "image/png": "[encoded data removed]",
      "text/plain": [
       "<Figure size 1000x1200 with 1 Axes>"
      ]
     },
     "metadata": {},
     "output_type": "display_data"
    }
   ],
   "source": [
    "# Sort the data by count in descending order\n",
    "sorted_data = mcc_codes_data.value_counts().sort_values(ascending=False)\n",
    "\n",
    "# Take the top 20 categories for better readability\n",
    "top_categories = sorted_data.head(20)\n",
    "\n",
    "# Create a horizontal bar chart\n",
    "plt.figure(figsize=(10, 12))\n",
    "top_categories.plot(kind='barh')\n",
    "plt.title('Top 20 MCC Categories by Frequency')\n",
    "plt.xlabel('Count')\n",
    "plt.ylabel('MCC Category')\n",
    "plt.tight_layout()\n",
    "plt.show()"
   ]
  },
  {
   "cell_type": "markdown",
   "metadata": {},
   "source": [
    "___"
   ]
  },
  {
   "cell_type": "markdown",
   "metadata": {},
   "source": [
    "#### 4. Load dataset: Transaction_data"
   ]
  },
  {
   "cell_type": "code",
   "execution_count": 33,
   "metadata": {},
   "outputs": [
    {
     "data": {
      "application/vnd.microsoft.datawrangler.viewer.v0+json": {
       "columns": [
        {
         "name": "index",
         "rawType": "int64",
         "type": "integer"
        },
        {
         "name": "id",
         "rawType": "int64",
         "type": "integer"
        },
        {
         "name": "date",
         "rawType": "datetime64[ns]",
         "type": "datetime"
        },
        {
         "name": "client_id",
         "rawType": "int64",
         "type": "integer"
        },
        {
         "name": "card_id",
         "rawType": "int64",
         "type": "integer"
        },
        {
         "name": "amount",
         "rawType": "object",
         "type": "string"
        },
        {
         "name": "use_chip",
         "rawType": "object",
         "type": "string"
        },
        {
         "name": "merchant_id",
         "rawType": "int64",
         "type": "integer"
        },
        {
         "name": "merchant_city",
         "rawType": "object",
         "type": "string"
        },
        {
         "name": "merchant_state",
         "rawType": "object",
         "type": "string"
        },
        {
         "name": "zip",
         "rawType": "float64",
         "type": "float"
        },
        {
         "name": "mcc",
         "rawType": "int64",
         "type": "integer"
        },
        {
         "name": "errors",
         "rawType": "object",
         "type": "unknown"
        }
       ],
       "conversionMethod": "pd.DataFrame",
       "ref": "18244824-060c-4ecf-986a-853609487320",
       "rows": [
        [
         "0",
         "7475327",
         "2010-01-01 00:01:00",
         "1556",
         "2972",
         "$-77.00",
         "Swipe Transaction",
         "59935",
         "Beulah",
         "ND",
         "58523.0",
         "5499",
         null
        ],
        [
         "1",
         "7475328",
         "2010-01-01 00:02:00",
         "561",
         "4575",
         "$14.57",
         "Swipe Transaction",
         "67570",
         "Bettendorf",
         "IA",
         "52722.0",
         "5311",
         null
        ],
        [
         "2",
         "7475329",
         "2010-01-01 00:02:00",
         "1129",
         "102",
         "$80.00",
         "Swipe Transaction",
         "27092",
         "Vista",
         "CA",
         "92084.0",
         "4829",
         null
        ],
        [
         "3",
         "7475331",
         "2010-01-01 00:05:00",
         "430",
         "2860",
         "$200.00",
         "Swipe Transaction",
         "27092",
         "Crown Point",
         "IN",
         "46307.0",
         "4829",
         null
        ],
        [
         "4",
         "7475332",
         "2010-01-01 00:06:00",
         "848",
         "3915",
         "$46.41",
         "Swipe Transaction",
         "13051",
         "Harwood",
         "MD",
         "20776.0",
         "5813",
         null
        ]
       ],
       "shape": {
        "columns": 12,
        "rows": 5
       }
      },
      "text/html": [
       "<div>\n",
       "<style scoped>\n",
       "    .dataframe tbody tr th:only-of-type {\n",
       "        vertical-align: middle;\n",
       "    }\n",
       "\n",
       "    .dataframe tbody tr th {\n",
       "        vertical-align: top;\n",
       "    }\n",
       "\n",
       "    .dataframe thead th {\n",
       "        text-align: right;\n",
       "    }\n",
       "</style>\n",
       "<table border=\"1\" class=\"dataframe\">\n",
       "  <thead>\n",
       "    <tr style=\"text-align: right;\">\n",
       "      <th></th>\n",
       "      <th>id</th>\n",
       "      <th>date</th>\n",
       "      <th>client_id</th>\n",
       "      <th>card_id</th>\n",
       "      <th>amount</th>\n",
       "      <th>use_chip</th>\n",
       "      <th>merchant_id</th>\n",
       "      <th>merchant_city</th>\n",
       "      <th>merchant_state</th>\n",
       "      <th>zip</th>\n",
       "      <th>mcc</th>\n",
       "      <th>errors</th>\n",
       "    </tr>\n",
       "  </thead>\n",
       "  <tbody>\n",
       "    <tr>\n",
       "      <th>0</th>\n",
       "      <td>7475327</td>\n",
       "      <td>2010-01-01 00:01:00</td>\n",
       "      <td>1556</td>\n",
       "      <td>2972</td>\n",
       "      <td>$-77.00</td>\n",
       "      <td>Swipe Transaction</td>\n",
       "      <td>59935</td>\n",
       "      <td>Beulah</td>\n",
       "      <td>ND</td>\n",
       "      <td>58523.0</td>\n",
       "      <td>5499</td>\n",
       "      <td>NaN</td>\n",
       "    </tr>\n",
       "    <tr>\n",
       "      <th>1</th>\n",
       "      <td>7475328</td>\n",
       "      <td>2010-01-01 00:02:00</td>\n",
       "      <td>561</td>\n",
       "      <td>4575</td>\n",
       "      <td>$14.57</td>\n",
       "      <td>Swipe Transaction</td>\n",
       "      <td>67570</td>\n",
       "      <td>Bettendorf</td>\n",
       "      <td>IA</td>\n",
       "      <td>52722.0</td>\n",
       "      <td>5311</td>\n",
       "      <td>NaN</td>\n",
       "    </tr>\n",
       "    <tr>\n",
       "      <th>2</th>\n",
       "      <td>7475329</td>\n",
       "      <td>2010-01-01 00:02:00</td>\n",
       "      <td>1129</td>\n",
       "      <td>102</td>\n",
       "      <td>$80.00</td>\n",
       "      <td>Swipe Transaction</td>\n",
       "      <td>27092</td>\n",
       "      <td>Vista</td>\n",
       "      <td>CA</td>\n",
       "      <td>92084.0</td>\n",
       "      <td>4829</td>\n",
       "      <td>NaN</td>\n",
       "    </tr>\n",
       "    <tr>\n",
       "      <th>3</th>\n",
       "      <td>7475331</td>\n",
       "      <td>2010-01-01 00:05:00</td>\n",
       "      <td>430</td>\n",
       "      <td>2860</td>\n",
       "      <td>$200.00</td>\n",
       "      <td>Swipe Transaction</td>\n",
       "      <td>27092</td>\n",
       "      <td>Crown Point</td>\n",
       "      <td>IN</td>\n",
       "      <td>46307.0</td>\n",
       "      <td>4829</td>\n",
       "      <td>NaN</td>\n",
       "    </tr>\n",
       "    <tr>\n",
       "      <th>4</th>\n",
       "      <td>7475332</td>\n",
       "      <td>2010-01-01 00:06:00</td>\n",
       "      <td>848</td>\n",
       "      <td>3915</td>\n",
       "      <td>$46.41</td>\n",
       "      <td>Swipe Transaction</td>\n",
       "      <td>13051</td>\n",
       "      <td>Harwood</td>\n",
       "      <td>MD</td>\n",
       "      <td>20776.0</td>\n",
       "      <td>5813</td>\n",
       "      <td>NaN</td>\n",
       "    </tr>\n",
       "  </tbody>\n",
       "</table>\n",
       "</div>"
      ],
      "text/plain": [
       "        id                date  client_id  card_id   amount  \\\n",
       "0  7475327 2010-01-01 00:01:00       1556     2972  $-77.00   \n",
       "1  7475328 2010-01-01 00:02:00        561     4575   $14.57   \n",
       "2  7475329 2010-01-01 00:02:00       1129      102   $80.00   \n",
       "3  7475331 2010-01-01 00:05:00        430     2860  $200.00   \n",
       "4  7475332 2010-01-01 00:06:00        848     3915   $46.41   \n",
       "\n",
       "            use_chip  merchant_id merchant_city merchant_state      zip   mcc  \\\n",
       "0  Swipe Transaction        59935        Beulah             ND  58523.0  5499   \n",
       "1  Swipe Transaction        67570    Bettendorf             IA  52722.0  5311   \n",
       "2  Swipe Transaction        27092         Vista             CA  92084.0  4829   \n",
       "3  Swipe Transaction        27092   Crown Point             IN  46307.0  4829   \n",
       "4  Swipe Transaction        13051       Harwood             MD  20776.0  5813   \n",
       "\n",
       "  errors  \n",
       "0    NaN  \n",
       "1    NaN  \n",
       "2    NaN  \n",
       "3    NaN  \n",
       "4    NaN  "
      ]
     },
     "execution_count": 33,
     "metadata": {},
     "output_type": "execute_result"
    }
   ],
   "source": [
    "# load transactions data\n",
    "transactions = pd.read_csv(r'/Users/teslim/Large_data_set/transactions_data.csv', parse_dates=['date'])\n",
    "transactions.head()"
   ]
  },
  {
   "cell_type": "code",
   "execution_count": 35,
   "metadata": {},
   "outputs": [
    {
     "name": "stdout",
     "output_type": "stream",
     "text": [
      "<class 'pandas.core.frame.DataFrame'>\n",
      "RangeIndex: 13305915 entries, 0 to 13305914\n",
      "Data columns (total 12 columns):\n",
      " #   Column          Dtype         \n",
      "---  ------          -----         \n",
      " 0   id              int64         \n",
      " 1   date            datetime64[ns]\n",
      " 2   client_id       int64         \n",
      " 3   card_id         int64         \n",
      " 4   amount          object        \n",
      " 5   use_chip        object        \n",
      " 6   merchant_id     int64         \n",
      " 7   merchant_city   object        \n",
      " 8   merchant_state  object        \n",
      " 9   zip             float64       \n",
      " 10  mcc             int64         \n",
      " 11  errors          object        \n",
      "dtypes: datetime64[ns](1), float64(1), int64(5), object(5)\n",
      "memory usage: 1.2+ GB\n"
     ]
    }
   ],
   "source": [
    "# check the data types\n",
    "transactions.info()"
   ]
  },
  {
   "cell_type": "code",
   "execution_count": 36,
   "metadata": {},
   "outputs": [
    {
     "data": {
      "text/plain": [
       "id                       0\n",
       "date                     0\n",
       "client_id                0\n",
       "card_id                  0\n",
       "amount                   0\n",
       "use_chip                 0\n",
       "merchant_id              0\n",
       "merchant_city            0\n",
       "merchant_state     1563700\n",
       "zip                1652706\n",
       "mcc                      0\n",
       "errors            13094522\n",
       "dtype: int64"
      ]
     },
     "execution_count": 36,
     "metadata": {},
     "output_type": "execute_result"
    }
   ],
   "source": [
    "# check for missing values\n",
    "transactions.isnull().sum()"
   ]
  },
  {
   "cell_type": "markdown",
   "metadata": {},
   "source": [
    "This dataset contains transaction details such as transaction_id, transaction_date, user_id, card_id, merchant_id, mcc_code, amount, and other relevant information, and it is important that dollar amounts are stored as numeric values for financial analysis, thus, this will be converted to the appropriate data type using the function below."
   ]
  },
  {
   "cell_type": "code",
   "execution_count": 37,
   "metadata": {},
   "outputs": [],
   "source": [
    "# Clean transactions data\n",
    "def clean_transactions_data(transactions_df):\n",
    "\t\"\"\"\n",
    "\tCleans the transactions data using vectorized operations:\n",
    "\t1. Removes dollar signs, commas, and parentheses from the `amount` column and converts it to float.\n",
    "\t2. Converts the `date` column to a datetime object.\n",
    "\t3. Handles missing values in `merchant_state`, `zip`, and `errors` columns.\n",
    "\t4. Returns a cleaned DataFrame.\n",
    "\t\"\"\"\n",
    "\t# Clean the `amount` column\n",
    "\ttransactions_df['amount'] = (\n",
    "\t\ttransactions_df['amount']\n",
    "\t\t.str.replace('$', '', regex=False)  # Remove dollar signs\n",
    "\t\t.str.replace(',', '', regex=False)  # Remove commas\n",
    "\t\t.str.replace('(', '-', regex=False)  # Replace opening parenthesis with negative sign\n",
    "\t\t.str.replace(')', '', regex=False)  # Remove closing parenthesis\n",
    "\t\t.astype(float)  # Convert to float\n",
    "\t)\n",
    "\t\n",
    "\t# Convert the `date` column to datetime\n",
    "\ttransactions_df['date'] = pd.to_datetime(transactions_df['date'])\n",
    "\t\n",
    "\t# Handle missing values in `merchant_state`, `zip`, and `errors`\n",
    "\ttransactions_df['merchant_state'] = transactions_df['merchant_state'].fillna('Unknown')\n",
    "\ttransactions_df['zip'] = transactions_df['zip'].fillna('Unknown')\n",
    "\ttransactions_df['errors'] = transactions_df['errors'].fillna('No Errors')\n",
    "\t\n",
    "\t# Convert specific columns to integers\n",
    "\tint_columns = ['id', 'client_id', 'card_id', 'merchant_id', 'mcc']\n",
    "\ttransactions_df[int_columns] = transactions_df[int_columns].astype(int)\n",
    "\t\n",
    "\t# Rename columns to match the database schema (optional)\n",
    "\ttransactions_df = transactions_df.rename(columns={\n",
    "\t\t'id': 'transaction_id',\n",
    "\t\t'client_id': 'user_id',\n",
    "\t\t'date': 'transaction_date',\n",
    "\t\t'mcc': 'mcc_code'\n",
    "\t})\n",
    "\t\n",
    "\treturn transactions_df\n"
   ]
  },
  {
   "cell_type": "code",
   "execution_count": 38,
   "metadata": {},
   "outputs": [],
   "source": [
    "# Clean transactions data\n",
    "transactions_data = clean_transactions_data(transactions)"
   ]
  },
  {
   "cell_type": "code",
   "execution_count": 39,
   "metadata": {},
   "outputs": [
    {
     "name": "stdout",
     "output_type": "stream",
     "text": [
      "<class 'pandas.core.frame.DataFrame'>\n",
      "RangeIndex: 13305915 entries, 0 to 13305914\n",
      "Data columns (total 12 columns):\n",
      " #   Column            Dtype         \n",
      "---  ------            -----         \n",
      " 0   transaction_id    int64         \n",
      " 1   transaction_date  datetime64[ns]\n",
      " 2   user_id           int64         \n",
      " 3   card_id           int64         \n",
      " 4   amount            float64       \n",
      " 5   use_chip          object        \n",
      " 6   merchant_id       int64         \n",
      " 7   merchant_city     object        \n",
      " 8   merchant_state    object        \n",
      " 9   zip               object        \n",
      " 10  mcc_code          int64         \n",
      " 11  errors            object        \n",
      "dtypes: datetime64[ns](1), float64(1), int64(5), object(5)\n",
      "memory usage: 1.2+ GB\n"
     ]
    }
   ],
   "source": [
    "transactions_data.info()"
   ]
  },
  {
   "cell_type": "code",
   "execution_count": 40,
   "metadata": {},
   "outputs": [
    {
     "data": {
      "image/png": "[encoded data removed]",
      "text/plain": [
       "<Figure size 2000x1500 with 9 Axes>"
      ]
     },
     "metadata": {},
     "output_type": "display_data"
    }
   ],
   "source": [
    "transactions_data.hist(bins=20, figsize=(20, 15))\n",
    "plt.show()"
   ]
  },
  {
   "cell_type": "markdown",
   "metadata": {},
   "source": [
    "____"
   ]
  },
  {
   "cell_type": "markdown",
   "metadata": {},
   "source": [
    "#### 5. Loading dataset: Train_fraud_data"
   ]
  },
  {
   "cell_type": "code",
   "execution_count": 41,
   "metadata": {},
   "outputs": [
    {
     "data": {
      "application/vnd.microsoft.datawrangler.viewer.v0+json": {
       "columns": [
        {
         "name": "index",
         "rawType": "int64",
         "type": "integer"
        },
        {
         "name": "target",
         "rawType": "object",
         "type": "string"
        }
       ],
       "conversionMethod": "pd.DataFrame",
       "ref": "cbea14ea-8ec2-4d50-87eb-c1fcdbbae4a1",
       "rows": [
        [
         "10649266",
         "No"
        ],
        [
         "23410063",
         "No"
        ],
        [
         "9316588",
         "No"
        ],
        [
         "12478022",
         "No"
        ],
        [
         "9558530",
         "No"
        ]
       ],
       "shape": {
        "columns": 1,
        "rows": 5
       }
      },
      "text/html": [
       "<div>\n",
       "<style scoped>\n",
       "    .dataframe tbody tr th:only-of-type {\n",
       "        vertical-align: middle;\n",
       "    }\n",
       "\n",
       "    .dataframe tbody tr th {\n",
       "        vertical-align: top;\n",
       "    }\n",
       "\n",
       "    .dataframe thead th {\n",
       "        text-align: right;\n",
       "    }\n",
       "</style>\n",
       "<table border=\"1\" class=\"dataframe\">\n",
       "  <thead>\n",
       "    <tr style=\"text-align: right;\">\n",
       "      <th></th>\n",
       "      <th>target</th>\n",
       "    </tr>\n",
       "  </thead>\n",
       "  <tbody>\n",
       "    <tr>\n",
       "      <th>10649266</th>\n",
       "      <td>No</td>\n",
       "    </tr>\n",
       "    <tr>\n",
       "      <th>23410063</th>\n",
       "      <td>No</td>\n",
       "    </tr>\n",
       "    <tr>\n",
       "      <th>9316588</th>\n",
       "      <td>No</td>\n",
       "    </tr>\n",
       "    <tr>\n",
       "      <th>12478022</th>\n",
       "      <td>No</td>\n",
       "    </tr>\n",
       "    <tr>\n",
       "      <th>9558530</th>\n",
       "      <td>No</td>\n",
       "    </tr>\n",
       "  </tbody>\n",
       "</table>\n",
       "</div>"
      ],
      "text/plain": [
       "         target\n",
       "10649266     No\n",
       "23410063     No\n",
       "9316588      No\n",
       "12478022     No\n",
       "9558530      No"
      ]
     },
     "execution_count": 41,
     "metadata": {},
     "output_type": "execute_result"
    }
   ],
   "source": [
    "# Load fraud labels data\n",
    "fraud_labels_data = pd.read_json(r'/Users/teslim/Large_data_set/train_fraud_labels.json')\n",
    "fraud_labels_data.head()"
   ]
  },
  {
   "cell_type": "code",
   "execution_count": 42,
   "metadata": {},
   "outputs": [
    {
     "name": "stdout",
     "output_type": "stream",
     "text": [
      "<class 'pandas.core.frame.DataFrame'>\n",
      "Index: 8914963 entries, 10649266 to 15151926\n",
      "Data columns (total 1 columns):\n",
      " #   Column  Dtype \n",
      "---  ------  ----- \n",
      " 0   target  object\n",
      "dtypes: object(1)\n",
      "memory usage: 136.0+ MB\n"
     ]
    }
   ],
   "source": [
    "fraud_labels_data.info()"
   ]
  },
  {
   "cell_type": "code",
   "execution_count": 43,
   "metadata": {},
   "outputs": [
    {
     "data": {
      "text/plain": [
       "target    0\n",
       "dtype: int64"
      ]
     },
     "execution_count": 43,
     "metadata": {},
     "output_type": "execute_result"
    }
   ],
   "source": [
    "# check for missing values\n",
    "fraud_labels_data.isnull().sum()"
   ]
  },
  {
   "cell_type": "code",
   "execution_count": 44,
   "metadata": {},
   "outputs": [
    {
     "data": {
      "text/plain": [
       "target\n",
       "No        8901631\n",
       "Yes         13332\n",
       "Name: count, dtype: int64"
      ]
     },
     "execution_count": 44,
     "metadata": {},
     "output_type": "execute_result"
    }
   ],
   "source": [
    "fraud_labels_data.value_counts()"
   ]
  },
  {
   "cell_type": "code",
   "execution_count": 49,
   "metadata": {},
   "outputs": [
    {
     "data": {
      "image/png": "[encoded data removed]",
      "text/plain": [
       "<Figure size 800x600 with 1 Axes>"
      ]
     },
     "metadata": {},
     "output_type": "display_data"
    }
   ],
   "source": [
    "import matplotlib.pyplot as plt\n",
    "import seaborn as sns\n",
    "\n",
    "# Set figure size\n",
    "plt.figure(figsize=(8, 6))\n",
    "\n",
    "# Create a bar plot\n",
    "ax = sns.countplot(x=fraud_labels_data['target'])\n",
    "\n",
    "# Add title and labels\n",
    "plt.title('Fraud Distribution', fontsize=14)\n",
    "plt.xlabel('Fraud Label')\n",
    "plt.ylabel('Count')\n",
    "\n",
    "# Add count labels on bars\n",
    "for p in ax.patches:\n",
    "    height = p.get_height()\n",
    "    ax.annotate(f'{int(height):,}', \n",
    "                (p.get_x() + p.get_width() / 2., height),\n",
    "                ha='center', va='bottom', fontsize=12)\n",
    "\n",
    "plt.tight_layout()\n",
    "plt.show()"
   ]
  },
  {
   "cell_type": "markdown",
   "metadata": {},
   "source": [
    "## SQL Database Initialization\n",
    "___"
   ]
  },
  {
   "cell_type": "markdown",
   "metadata": {},
   "source": [
    "The next step is the Database Initialization, which involves creating a new database, establishing connections, and loading the dataset into the database. This process is crucial for subsequent data analysis, forecasting, and visualization tasks."
   ]
  },
  {
   "cell_type": "code",
   "execution_count": 7,
   "metadata": {},
   "outputs": [
    {
     "name": "stdout",
     "output_type": "stream",
     "text": [
      "MySQL credentials loaded successfully.\n"
     ]
    }
   ],
   "source": [
    "import os\n",
    "import mysql.connector\n",
    "from dotenv import load_dotenv\n",
    "\n",
    "# Load environment variables from .env file\n",
    "load_dotenv()\n",
    "\n",
    "# Retrieve MySQL credentials from environment variables\n",
    "MYSQL_USER = os.getenv(\"MYSQL_USERNAME\")\n",
    "MYSQL_PASSWORD = os.getenv(\"MYSQL_PASSWORD\")\n",
    "MYSQL_HOST = os.getenv(\"MYSQL_HOST\")\n",
    "\n",
    "# Validate credentials\n",
    "if not MYSQL_USER or not MYSQL_PASSWORD or not MYSQL_HOST:\n",
    "    raise ValueError(\"Missing MySQL credentials. Please check your .env file.\")\n",
    "else:\n",
    "    print(\"MySQL credentials loaded successfully.\")"
   ]
  },
  {
   "cell_type": "code",
   "execution_count": null,
   "metadata": {},
   "outputs": [],
   "source": []
  },
  {
   "cell_type": "markdown",
   "metadata": {},
   "source": [
    "## Connect to SQL Database\n",
    "___"
   ]
  },
  {
   "cell_type": "markdown",
   "metadata": {},
   "source": [
    "After initializing the database, the next step is to connect to the SQL database using Python. This connection is essential for querying the database, extracting data, and performing various data analysis tasks."
   ]
  },
  {
   "cell_type": "code",
   "execution_count": 51,
   "metadata": {},
   "outputs": [
    {
     "name": "stdout",
     "output_type": "stream",
     "text": [
      "Database 'financial_transactions_db' created successfully and connected.\n"
     ]
    }
   ],
   "source": [
    "# Database connection function\n",
    "def connect_to_db():\n",
    "    return mysql.connector.connect(\n",
    "        host=MYSQL_HOST,\n",
    "        user=MYSQL_USER,\n",
    "        password=MYSQL_PASSWORD\n",
    "    )\n",
    "\n",
    "# Databse creation function\n",
    "def create_database():\n",
    "    conn = connect_to_db()\n",
    "    cursor = conn.cursor()\n",
    "    cursor.execute(\"CREATE DATABASE IF NOT EXISTS financial_transactions_db\")\n",
    "    print(\"Database 'financial_transactions_db' created successfully and connected.\")\n",
    "    conn.close()\n",
    "\n",
    "# Connect to the database function\n",
    "def connect_to_db_with_db():\n",
    "    return mysql.connector.connect(\n",
    "        host=MYSQL_HOST,\n",
    "        user=MYSQL_USER,\n",
    "        password=MYSQL_PASSWORD,\n",
    "        database=\"financial_transactions_db\"\n",
    "    )\n",
    "\n",
    "# Call the functions\n",
    "create_database()\n",
    "db = connect_to_db_with_db()"
   ]
  },
  {
   "cell_type": "code",
   "execution_count": null,
   "metadata": {},
   "outputs": [],
   "source": []
  },
  {
   "cell_type": "markdown",
   "metadata": {},
   "source": [
    "## Create Tables\n",
    "___"
   ]
  },
  {
   "cell_type": "markdown",
   "metadata": {},
   "source": [
    "Followinng the set up of the  database, the next step is create the tables in the database, and insert data. The tables will be created based on the schema and relationships defined earlier.\n",
    "\n",
    "The tables will be created:\n",
    "- users\n",
    "- cards\n",
    "- mcc_codes\n",
    "- transactions\n",
    "- fraud_labels"
   ]
  },
  {
   "cell_type": "code",
   "execution_count": 43,
   "metadata": {},
   "outputs": [],
   "source": [
    "def create_users_table():\n",
    "    \"\"\"\n",
    "    Creates the 'users' table in the database with the correct schema.\n",
    "    \"\"\"\n",
    "    conn = connect_to_db_with_db()\n",
    "    cursor = conn.cursor()\n",
    "    cursor.execute(\"\"\"\n",
    "    CREATE TABLE IF NOT EXISTS users (\n",
    "        user_id BIGINT UNSIGNED PRIMARY KEY, -- Ensures consistency across foreign keys\n",
    "        current_age INT,\n",
    "        retirement_age INT,\n",
    "        birth_year INT,\n",
    "        birth_month INT,\n",
    "        gender VARCHAR(10),\n",
    "        address VARCHAR(255),\n",
    "        latitude DOUBLE PRECISION,         \n",
    "        longitude DOUBLE PRECISION,        \n",
    "        per_capita_income DOUBLE PRECISION, \n",
    "        yearly_income DOUBLE PRECISION,    \n",
    "        total_debt DOUBLE PRECISION,       \n",
    "        credit_score INT,\n",
    "        num_credit_cards INT\n",
    "    );\n",
    "    \"\"\")\n",
    "    conn.commit()\n",
    "    conn.close()\n",
    "    print(\"Table 'users' created successfully.\")\n"
   ]
  },
  {
   "cell_type": "code",
   "execution_count": 44,
   "metadata": {},
   "outputs": [],
   "source": [
    "def create_cards_table():\n",
    "    \"\"\"\n",
    "    Creates the 'cards' table in the database with the correct schema.\n",
    "    \"\"\"\n",
    "    conn = connect_to_db_with_db()\n",
    "    cursor = conn.cursor()\n",
    "    cursor.execute(\"\"\"\n",
    "    CREATE TABLE IF NOT EXISTS cards (\n",
    "        card_id BIGINT UNSIGNED PRIMARY KEY,\n",
    "        user_id BIGINT UNSIGNED NOT NULL, \n",
    "        card_brand VARCHAR(50),\n",
    "        card_type VARCHAR(50),\n",
    "        card_number BIGINT,\n",
    "        expires DATE,\n",
    "        cvv INT,\n",
    "        has_chip VARCHAR(10),\n",
    "        num_cards_issued INT,\n",
    "        credit_limit DOUBLE PRECISION, \n",
    "        acct_open_date DATE,\n",
    "        year_pin_last_changed INT,\n",
    "        card_on_dark_web VARCHAR(10),\n",
    "        FOREIGN KEY (user_id) REFERENCES users(user_id) ON DELETE CASCADE\n",
    "    );\n",
    "    \"\"\")\n",
    "    conn.commit()\n",
    "    conn.close()\n",
    "    print(\"Table 'cards' created successfully.\")\n"
   ]
  },
  {
   "cell_type": "code",
   "execution_count": 45,
   "metadata": {},
   "outputs": [],
   "source": [
    "def create_mcc_codes_table():\n",
    "    \"\"\"\n",
    "    Creates the 'mcc_codes' table in the database with merchant category codes.\n",
    "    \"\"\"\n",
    "    conn = connect_to_db_with_db()\n",
    "    cursor = conn.cursor()\n",
    "    cursor.execute(\"\"\"\n",
    "    CREATE TABLE IF NOT EXISTS mcc_codes (\n",
    "        mcc_code BIGINT UNSIGNED PRIMARY KEY,\n",
    "        category_description VARCHAR(255)\n",
    "    );\n",
    "    \"\"\")\n",
    "    conn.commit()\n",
    "    conn.close()\n",
    "    print(\"Table 'mcc_codes' created successfully.\")\n"
   ]
  },
  {
   "cell_type": "code",
   "execution_count": 46,
   "metadata": {},
   "outputs": [],
   "source": [
    "def create_transactions_table():\n",
    "    \"\"\"\n",
    "    Creates the 'transactions' table in the database with the correct schema.\n",
    "    \"\"\"\n",
    "    conn = connect_to_db_with_db()\n",
    "    cursor = conn.cursor()\n",
    "    cursor.execute(\"\"\"\n",
    "    CREATE TABLE IF NOT EXISTS transactions (\n",
    "        transaction_id BIGINT UNSIGNED PRIMARY KEY,  \n",
    "        transaction_date DATE,  \n",
    "        user_id BIGINT UNSIGNED NOT NULL,  \n",
    "        card_id BIGINT UNSIGNED NOT NULL,  \n",
    "        amount DOUBLE PRECISION,  \n",
    "        use_chip VARCHAR(50),  \n",
    "        merchant_id BIGINT UNSIGNED,  \n",
    "        merchant_city TEXT,  \n",
    "        merchant_state VARCHAR(50),  \n",
    "        zip VARCHAR(20),  \n",
    "        mcc_code BIGINT UNSIGNED,  \n",
    "        errors TEXT,  \n",
    "        FOREIGN KEY (user_id) REFERENCES users(user_id) ON DELETE CASCADE,  \n",
    "        FOREIGN KEY (card_id) REFERENCES cards(card_id) ON DELETE CASCADE,  \n",
    "        FOREIGN KEY (mcc_code) REFERENCES mcc_codes(mcc_code) ON DELETE SET NULL\n",
    "    );\n",
    "    \"\"\")\n",
    "    conn.commit()\n",
    "    conn.close()\n",
    "    print(\"Table 'transactions' created successfully.\")\n"
   ]
  },
  {
   "cell_type": "code",
   "execution_count": 48,
   "metadata": {},
   "outputs": [],
   "source": [
    "def create_fraud_table():\n",
    "    \"\"\"\n",
    "    Creates the 'fraud_labels' table in the database.\n",
    "    \"\"\"\n",
    "    conn = connect_to_db_with_db()\n",
    "    cursor = conn.cursor()\n",
    "    cursor.execute(\"\"\"\n",
    "    CREATE TABLE IF NOT EXISTS fraud_labels (\n",
    "        transaction_id BIGINT UNSIGNED PRIMARY KEY,  \n",
    "        is_fraud BOOLEAN,  \n",
    "        FOREIGN KEY (transaction_id) REFERENCES transactions(transaction_id) ON DELETE CASCADE\n",
    "    );\n",
    "    \"\"\")\n",
    "    conn.commit()\n",
    "    conn.close()\n",
    "    print(\"Table 'fraud_labels' created successfully.\")\n"
   ]
  },
  {
   "cell_type": "code",
   "execution_count": 49,
   "metadata": {},
   "outputs": [
    {
     "name": "stdout",
     "output_type": "stream",
     "text": [
      "Table 'users' created successfully.\n",
      "Table 'cards' created successfully.\n",
      "Table 'mcc_codes' created successfully.\n",
      "Table 'transactions' created successfully.\n",
      "Table 'fraud_labels' created successfully.\n"
     ]
    }
   ],
   "source": [
    "# Create tables\n",
    "create_users_table()\n",
    "create_cards_table()\n",
    "create_mcc_codes_table()\n",
    "create_transactions_table()\n",
    "create_fraud_table()"
   ]
  },
  {
   "cell_type": "markdown",
   "metadata": {},
   "source": [
    "After creating the tables, the next step is to establish relationships between them to ensure data integrity and consistency. After that, we will proceed to the next section of inspecting the data into the tables."
   ]
  },
  {
   "cell_type": "code",
   "execution_count": null,
   "metadata": {},
   "outputs": [],
   "source": []
  },
  {
   "cell_type": "markdown",
   "metadata": {},
   "source": [
    "## Insert Data into: User Table\n",
    "___"
   ]
  },
  {
   "cell_type": "code",
   "execution_count": 30,
   "metadata": {},
   "outputs": [
    {
     "name": "stdout",
     "output_type": "stream",
     "text": [
      "<class 'pandas.core.frame.DataFrame'>\n",
      "RangeIndex: 2000 entries, 0 to 1999\n",
      "Data columns (total 14 columns):\n",
      " #   Column             Non-Null Count  Dtype  \n",
      "---  ------             --------------  -----  \n",
      " 0   id                 2000 non-null   int64  \n",
      " 1   current_age        2000 non-null   int64  \n",
      " 2   retirement_age     2000 non-null   int64  \n",
      " 3   birth_year         2000 non-null   int64  \n",
      " 4   birth_month        2000 non-null   int64  \n",
      " 5   gender             2000 non-null   object \n",
      " 6   address            2000 non-null   object \n",
      " 7   latitude           2000 non-null   float64\n",
      " 8   longitude          2000 non-null   float64\n",
      " 9   per_capita_income  2000 non-null   float64\n",
      " 10  yearly_income      2000 non-null   float64\n",
      " 11  total_debt         2000 non-null   float64\n",
      " 12  credit_score       2000 non-null   int64  \n",
      " 13  num_credit_cards   2000 non-null   int64  \n",
      "dtypes: float64(5), int64(7), object(2)\n",
      "memory usage: 218.9+ KB\n"
     ]
    }
   ],
   "source": [
    "users_data.info()"
   ]
  },
  {
   "cell_type": "code",
   "execution_count": null,
   "metadata": {},
   "outputs": [
    {
     "name": "stdout",
     "output_type": "stream",
     "text": [
      "✅ Users data inserted successfully.\n"
     ]
    }
   ],
   "source": [
    "# Insert users data into the users table\n",
    "def insert_users_data(users_df):\n",
    "    \"\"\"\n",
    "    Inserts users' data from a DataFrame into the users table efficiently.\n",
    "    \"\"\"\n",
    "    # Ensure column alignment\n",
    "    users_df.rename(columns={'id': 'user_id'}, inplace=True)\n",
    "\n",
    "    # Connect to the database\n",
    "    conn = connect_to_db_with_db()\n",
    "    cursor = conn.cursor()\n",
    "\n",
    "    # Prepare SQL query\n",
    "    sql_query = \"\"\"\n",
    "        INSERT IGNORE INTO users (user_id, \n",
    "                           current_age, \n",
    "                           retirement_age, \n",
    "                           birth_year, \n",
    "                           birth_month, \n",
    "                           gender, \n",
    "                           address,\n",
    "                           latitude, \n",
    "                           longitude, \n",
    "                           per_capita_income, \n",
    "                           yearly_income, \n",
    "                           total_debt, \n",
    "                           credit_score, \n",
    "                           num_credit_cards)\n",
    "        VALUES (%s, %s, %s, %s, %s, %s, %s, %s, %s, %s, %s, %s, %s, %s)\n",
    "    \"\"\"\n",
    "\n",
    "    # Convert DataFrame to list of tuples (for executemany)\n",
    "    data_to_insert = [\n",
    "        (\n",
    "            int(row['user_id']), \n",
    "            int(row['current_age']), \n",
    "            int(row['retirement_age']),\n",
    "            int(row['birth_year']), \n",
    "            int(row['birth_month']), \n",
    "            row['gender'],\n",
    "            row['address'], \n",
    "            float(row['latitude']), \n",
    "            float(row['longitude']),\n",
    "            float(row['per_capita_income']), \n",
    "            float(row['yearly_income']), \n",
    "            float(row['total_debt']),\n",
    "            int(row['credit_score']), \n",
    "            int(row['num_credit_cards'])\n",
    "        )\n",
    "        for _, row in users_df.iterrows()\n",
    "    ]\n",
    "\n",
    "    # Execute batch insertion for better performance\n",
    "    cursor.executemany(sql_query, data_to_insert)\n",
    "\n",
    "    # Commit and close\n",
    "    conn.commit()\n",
    "    conn.close()\n",
    "\n",
    "    print(\"✅ Users data inserted successfully.\")\n",
    "\n",
    "# Call the function\n",
    "insert_users_data(users_data)\n"
   ]
  },
  {
   "cell_type": "code",
   "execution_count": null,
   "metadata": {},
   "outputs": [],
   "source": []
  },
  {
   "cell_type": "markdown",
   "metadata": {},
   "source": [
    "##  Insert Data into: Cards Table\n",
    "___"
   ]
  },
  {
   "cell_type": "code",
   "execution_count": 34,
   "metadata": {},
   "outputs": [
    {
     "name": "stdout",
     "output_type": "stream",
     "text": [
      "<class 'pandas.core.frame.DataFrame'>\n",
      "RangeIndex: 6146 entries, 0 to 6145\n",
      "Data columns (total 13 columns):\n",
      " #   Column                 Non-Null Count  Dtype         \n",
      "---  ------                 --------------  -----         \n",
      " 0   id                     6146 non-null   int64         \n",
      " 1   client_id              6146 non-null   int64         \n",
      " 2   card_brand             6146 non-null   object        \n",
      " 3   card_type              6146 non-null   object        \n",
      " 4   card_number            6146 non-null   int64         \n",
      " 5   expires                6146 non-null   datetime64[ns]\n",
      " 6   cvv                    6146 non-null   int64         \n",
      " 7   has_chip               6146 non-null   object        \n",
      " 8   num_cards_issued       6146 non-null   int64         \n",
      " 9   credit_limit           6146 non-null   float64       \n",
      " 10  acct_open_date         0 non-null      datetime64[ns]\n",
      " 11  year_pin_last_changed  6146 non-null   Int64         \n",
      " 12  card_on_dark_web       6146 non-null   object        \n",
      "dtypes: Int64(1), datetime64[ns](2), float64(1), int64(5), object(4)\n",
      "memory usage: 630.3+ KB\n"
     ]
    }
   ],
   "source": [
    "cards_data.info()"
   ]
  },
  {
   "cell_type": "code",
   "execution_count": null,
   "metadata": {},
   "outputs": [
    {
     "name": "stdout",
     "output_type": "stream",
     "text": [
      "✅ Cards data inserted successfully.\n"
     ]
    }
   ],
   "source": [
    "# Insert cards data into the cards table\n",
    "def insert_cards_data(cards_df):\n",
    "    # Connect to the database\n",
    "    conn = connect_to_db_with_db()\n",
    "    cursor = conn.cursor()\n",
    "\n",
    "    # Iterate over each row in the DataFrame and insert it into the table\n",
    "    cards_df.rename(columns={'id': 'card_id'}, inplace=True)\n",
    "    \n",
    "    for index, row in cards_df.iterrows():\n",
    "        cursor.execute(\"\"\"\n",
    "            INSERT INTO cards (card_id, \n",
    "                               user_id, \n",
    "                               card_brand, \n",
    "                               card_type, \n",
    "                               card_number, \n",
    "                               expires, \n",
    "                               cvv, \n",
    "                               has_chip,\n",
    "                               num_cards_issued, \n",
    "                               credit_limit, \n",
    "                               acct_open_date, \n",
    "                               year_pin_last_changed, \n",
    "                               card_on_dark_web)\n",
    "            VALUES (%s, %s, %s, %s, %s, %s, %s, %s, %s, %s, %s, %s, %s)\n",
    "        \"\"\", \n",
    "        (   int(row['card_id']), \n",
    "            int(row['client_id']), \n",
    "            row['card_brand'], \n",
    "            row['card_type'], \n",
    "            row['card_number'], \n",
    "            row['expires'], \n",
    "            row['cvv'], \n",
    "            row['has_chip'], \n",
    "            int(row['num_cards_issued']), \n",
    "            float(row['credit_limit']), \n",
    "            row['acct_open_date'], \n",
    "            int(row['year_pin_last_changed']), \n",
    "            row['card_on_dark_web']\n",
    "        )\n",
    "    )\n",
    "\n",
    "    # Commit the transaction\n",
    "    conn.commit()\n",
    "\n",
    "    # Close the connection\n",
    "    conn.close()\n",
    "\n",
    "    print(\"✅ Cards data inserted successfully.\")\n",
    "\n",
    "# Call the function\n",
    "insert_cards_data(cards_data)"
   ]
  },
  {
   "cell_type": "code",
   "execution_count": null,
   "metadata": {},
   "outputs": [],
   "source": []
  },
  {
   "cell_type": "markdown",
   "metadata": {},
   "source": [
    "##  Insert Data into: MCC Codes Table\n",
    "___"
   ]
  },
  {
   "cell_type": "code",
   "execution_count": 42,
   "metadata": {},
   "outputs": [
    {
     "name": "stdout",
     "output_type": "stream",
     "text": [
      "<class 'pandas.core.frame.DataFrame'>\n",
      "Index: 109 entries, 5812 to 5733\n",
      "Data columns (total 1 columns):\n",
      " #   Column  Non-Null Count  Dtype \n",
      "---  ------  --------------  ----- \n",
      " 0   0       109 non-null    object\n",
      "dtypes: object(1)\n",
      "memory usage: 1.7+ KB\n"
     ]
    }
   ],
   "source": [
    "mcc_codes_data.info()"
   ]
  },
  {
   "cell_type": "code",
   "execution_count": null,
   "metadata": {},
   "outputs": [
    {
     "name": "stdout",
     "output_type": "stream",
     "text": [
      "✅ MCC Codes data inserted successfully.\n"
     ]
    }
   ],
   "source": [
    "# Insert mcc codes data into the mcc_codes table\n",
    "def insert_mcc_codes_data(mcc_codes_df):\n",
    "    # Connect to the database\n",
    "    conn = connect_to_db_with_db()\n",
    "    cursor = conn.cursor()\n",
    "\n",
    "    # Iterate over each row in the DataFrame and insert it into the table\n",
    "    for index, row in mcc_codes_df.iterrows():\n",
    "        cursor.execute(\"\"\"\n",
    "            INSERT INTO mcc_codes (mcc_code, \n",
    "                                  category_description)\n",
    "            VALUES (%s, %s)\n",
    "        \"\"\", \n",
    "        (   index,  # Assuming `index` is the `mcc_code`\n",
    "            row[0]  # Assuming the first column is `category_description`\n",
    "        )\n",
    "    )\n",
    "\n",
    "    # Commit the transaction\n",
    "    conn.commit()\n",
    "\n",
    "    # Close the connection\n",
    "    conn.close()\n",
    "\n",
    "    print(\"✅ MCC Codes data inserted successfully.\")\n",
    "\n",
    "# Call the function\n",
    "insert_mcc_codes_data(mcc_codes_data)"
   ]
  },
  {
   "cell_type": "code",
   "execution_count": null,
   "metadata": {},
   "outputs": [],
   "source": []
  },
  {
   "cell_type": "markdown",
   "metadata": {},
   "source": [
    "## Insert Data into: Transactions Table\n",
    "____"
   ]
  },
  {
   "cell_type": "code",
   "execution_count": 45,
   "metadata": {},
   "outputs": [
    {
     "name": "stdout",
     "output_type": "stream",
     "text": [
      "<class 'pandas.core.frame.DataFrame'>\n",
      "RangeIndex: 13305915 entries, 0 to 13305914\n",
      "Data columns (total 12 columns):\n",
      " #   Column            Dtype         \n",
      "---  ------            -----         \n",
      " 0   transaction_id    int64         \n",
      " 1   transaction_date  datetime64[ns]\n",
      " 2   user_id           int64         \n",
      " 3   card_id           int64         \n",
      " 4   amount            float64       \n",
      " 5   use_chip          object        \n",
      " 6   merchant_id       int64         \n",
      " 7   merchant_city     object        \n",
      " 8   merchant_state    object        \n",
      " 9   zip               object        \n",
      " 10  mcc_code          int64         \n",
      " 11  errors            object        \n",
      "dtypes: datetime64[ns](1), float64(1), int64(5), object(5)\n",
      "memory usage: 1.2+ GB\n"
     ]
    }
   ],
   "source": [
    "transactions_data.info()"
   ]
  },
  {
   "cell_type": "code",
   "execution_count": null,
   "metadata": {},
   "outputs": [
    {
     "name": "stdout",
     "output_type": "stream",
     "text": [
      "✅ Transactions data inserted successfully.\n"
     ]
    }
   ],
   "source": [
    "# Insert transactions data into the transactions table\n",
    "def insert_transactions_data(transactions_df):\n",
    "    # Connect to the database\n",
    "    conn = connect_to_db_with_db()\n",
    "    cursor = conn.cursor()\n",
    "\n",
    "    # Iterate over each row in the DataFrame and insert it into the transactions table\n",
    "    for index, row in transactions_df.iterrows():\n",
    "        cursor.execute(\"\"\"\n",
    "            INSERT INTO transactions (\n",
    "                transaction_id,\n",
    "                transaction_date,\n",
    "                user_id,\n",
    "                card_id,\n",
    "                amount,\n",
    "                use_chip,\n",
    "                merchant_id,\n",
    "                merchant_city,\n",
    "                merchant_state,\n",
    "                zip,\n",
    "                mcc_code,\n",
    "                errors\n",
    "            )\n",
    "            VALUES (%s, %s, %s, %s, %s, %s, %s, %s, %s, %s, %s, %s)\n",
    "        \"\"\", (\n",
    "            int(row['transaction_id']),\n",
    "            row['transaction_date'],  # assuming the DB accepts datetime objects\n",
    "            int(row['user_id']),\n",
    "            int(row['card_id']),\n",
    "            float(row['amount']),\n",
    "            row['use_chip'],\n",
    "            int(row['merchant_id']),\n",
    "            row['merchant_city'],\n",
    "            row['merchant_state'],\n",
    "            row['zip'],\n",
    "            int(row['mcc_code']),\n",
    "            row['errors']\n",
    "        ))\n",
    "\n",
    "    # Commit the transaction\n",
    "    conn.commit()\n",
    "\n",
    "    # Close the connection\n",
    "    conn.close()\n",
    "\n",
    "    print(\"✅ Transactions data inserted successfully.\")\n",
    "\n",
    "# Call the function (assuming your DataFrame is named transactions_data)\n",
    "insert_transactions_data(transactions_data)\n"
   ]
  },
  {
   "cell_type": "code",
   "execution_count": null,
   "metadata": {},
   "outputs": [],
   "source": []
  },
  {
   "cell_type": "markdown",
   "metadata": {},
   "source": [
    "## Insert Data into:  Train_fraud_data Table\n",
    "_____\n"
   ]
  },
  {
   "cell_type": "code",
   "execution_count": 48,
   "metadata": {},
   "outputs": [
    {
     "name": "stdout",
     "output_type": "stream",
     "text": [
      "<class 'pandas.core.frame.DataFrame'>\n",
      "Index: 8914963 entries, 10649266 to 15151926\n",
      "Data columns (total 1 columns):\n",
      " #   Column  Dtype \n",
      "---  ------  ----- \n",
      " 0   target  object\n",
      "dtypes: object(1)\n",
      "memory usage: 136.0+ MB\n"
     ]
    }
   ],
   "source": [
    "fraud_labels_data.info()"
   ]
  },
  {
   "cell_type": "code",
   "execution_count": null,
   "metadata": {},
   "outputs": [
    {
     "name": "stdout",
     "output_type": "stream",
     "text": [
      "✅ Fraud Labels data inserted successfully.\n"
     ]
    }
   ],
   "source": [
    "# Insert fraud labels data into the fraud_labels table\n",
    "def insert_fraud_labels_data(fraud_labels_df):\n",
    "    # Map 'No' to 0 and 'Yes' to 1\n",
    "    fraud_labels_df['target'] = fraud_labels_df['target'].map({'No': 0, 'Yes': 1})\n",
    "\n",
    "    # Connect to the database\n",
    "    conn = connect_to_db_with_db()\n",
    "    cursor = conn.cursor()\n",
    "\n",
    "    # Iterate over each row in the DataFrame and insert it into the table.\n",
    "    # Here, the DataFrame index is used as the transaction_id and the 'target'\n",
    "    # column is used as the is_fraud flag.\n",
    "    for transaction_id, row in fraud_labels_df.iterrows():\n",
    "        cursor.execute(\"\"\"\n",
    "            INSERT INTO fraud_labels (transaction_id, is_fraud)\n",
    "            VALUES (%s, %s)\n",
    "        \"\"\", (\n",
    "            int(transaction_id),  # Use index as transaction_id\n",
    "            int(row['target'])    # Convert the target value to int\n",
    "        ))\n",
    "\n",
    "    # Commit the transaction\n",
    "    conn.commit()\n",
    "\n",
    "    # Close the connection\n",
    "    conn.close()\n",
    "\n",
    "    print(\"✅ Fraud Labels data inserted successfully.\")\n",
    "\n",
    "# Call the function (replace `fraud_labels_data` with your DataFrame variable name)\n",
    "insert_fraud_labels_data(fraud_labels_data)\n"
   ]
  },
  {
   "cell_type": "markdown",
   "metadata": {},
   "source": []
  },
  {
   "cell_type": "markdown",
   "metadata": {},
   "source": [
    "# 📚 3. Features Engineering \n",
    "___\n",
    "\n",
    "<div style=\"font-family: Avenir, sans-serif; font-size: 16px; line-height: 1.6; color: white; background-color: #333; padding: 10px; border-radius: 5px;\">\n",
    "In this section, we focus on feature engineering—the process of creating new, informative variables from the existing raw data. These engineered features are not directly available in the original dataset but are derived by combining and transforming columns through SQL queries. The goal is to enhance the predictive power of machine learning models and improve the accuracy of financial forecasts.\n",
    "</div>"
   ]
  },
  {
   "cell_type": "markdown",
   "metadata": {},
   "source": [
    "First, we reconnect to the SQL database to extract the data for feature engineering."
   ]
  },
  {
   "cell_type": "code",
   "execution_count": 15,
   "metadata": {},
   "outputs": [],
   "source": [
    "def run_query(query):\n",
    "    \"\"\"\n",
    "    Connects to the 'financial_transactions_db' database,\n",
    "    executes the provided SQL query, and returns the results as a DataFrame.\n",
    "    \"\"\"\n",
    "    conn = mysql.connector.connect(\n",
    "        host=MYSQL_HOST,\n",
    "        user=MYSQL_USER,\n",
    "        password=MYSQL_PASSWORD,\n",
    "        database=\"financial_transactions_db\"\n",
    "    )\n",
    "    cursor = conn.cursor()\n",
    "    cursor.execute(query)\n",
    "    result = cursor.fetchall()\n",
    "    columns = [desc[0] for desc in cursor.description]\n",
    "    cursor.close()\n",
    "    conn.close()\n",
    "    return pd.DataFrame(result, columns=columns)\n"
   ]
  },
  {
   "cell_type": "markdown",
   "metadata": {},
   "source": [
    "The objective of this project is 4-fold:\n",
    "1. **Financial Forecasting:** Predict future revenue and expenses using historical transaction data.\n",
    "2. **Variance Analysis:** Compare budgeted vs. actual financial performance to identify key variance drivers.\n",
    "3. **Customer Insights:** Understand customer behavior through spending segmentation and clustering.\n",
    "4. **Business Intelligence:** Develop Power BI dashboards for real-time financial tracking and variance monitoring.\n",
    "\n",
    "Thus, feature engineering will focus on creating variables that capture each of those objectives. The features will be derived from the transactions, users, and cards tables to provide a comprehensive view of financial activity, customer behavior, and spending patterns. Each section provides: \n",
    "- Feature List: A detailed breakdown of the features created.\n",
    "- SQL Queries: To extract and transform data for use in machine learning models or BI tools.\n",
    "\n"
   ]
  },
  {
   "cell_type": "markdown",
   "metadata": {},
   "source": [
    "### 1. Financial Forecasting Features Extracted\n",
    "___\n"
   ]
  },
  {
   "cell_type": "markdown",
   "metadata": {},
   "source": [
    "The purpose of financial forecasting is to predict future revenue and expenses based on historical transaction data. To achieve this, we need to create features that capture trends, seasonality, and other patterns in the financial data. The following features will be engineered for financial forecasting:"
   ]
  },
  {
   "cell_type": "markdown",
   "metadata": {},
   "source": [
    "\n",
    "\n",
    "| Feature               | Description                                      | SQL Extraction                                                                 |\n",
    "|-----------------------|--------------------------------------------------|-------------------------------------------------------------------------------|\n",
    "| transaction_year      | Extracts the year of each transaction            | `YEAR(transaction_date)`                                                      |\n",
    "| transaction_month     | Extracts the month of each transaction           | `MONTH(transaction_date)`                                                     |\n",
    "| transaction_quarter   | Extracts the quarter of each transaction         | `QUARTER(transaction_date)`                                                   |\n",
    "| total_revenue         | Total revenue for each time period               | `SUM(amount)`                                                                 |\n",
    "| lag_1_month           | Revenue from the previous month                  | `LAG(total_revenue, 1) OVER (ORDER BY transaction_year, transaction_month)`   |\n",
    "| lag_2_month           | Revenue from two months ago                      | `LAG(total_revenue, 2) OVER (ORDER BY transaction_year, transaction_month)`   |\n",
    "| rolling_avg_3_months  | 3-month moving average of revenue                | `AVG(total_revenue) OVER (ORDER BY transaction_year, transaction_month ROWS BETWEEN 2 PRECEDING AND CURRENT ROW)` |\n",
    "| cumulative_revenue    | Cumulative sum of revenue                        | `SUM(total_revenue) OVER (ORDER BY transaction_year, transaction_month)`      |"
   ]
  },
  {
   "cell_type": "code",
   "execution_count": 10,
   "metadata": {},
   "outputs": [
    {
     "data": {
      "application/vnd.microsoft.datawrangler.viewer.v0+json": {
       "columns": [
        {
         "name": "index",
         "rawType": "int64",
         "type": "integer"
        },
        {
         "name": "transaction_year",
         "rawType": "int64",
         "type": "integer"
        },
        {
         "name": "transaction_month",
         "rawType": "int64",
         "type": "integer"
        },
        {
         "name": "transaction_quarter",
         "rawType": "int64",
         "type": "integer"
        },
        {
         "name": "total_revenue",
         "rawType": "float64",
         "type": "float"
        },
        {
         "name": "lag_1_month",
         "rawType": "float64",
         "type": "float"
        },
        {
         "name": "lag_2_month",
         "rawType": "float64",
         "type": "float"
        },
        {
         "name": "rolling_avg_3_months",
         "rawType": "float64",
         "type": "float"
        },
        {
         "name": "cumulative_revenue",
         "rawType": "float64",
         "type": "float"
        }
       ],
       "conversionMethod": "pd.DataFrame",
       "ref": "2bd7a5fd-bbfa-4bf7-a6e7-be78998f3802",
       "rows": [
        [
         "0",
         "2010",
         "1",
         "1",
         "4372532.119999975",
         null,
         null,
         "4372532.119999975",
         "4372532.119999975"
        ],
        [
         "1",
         "2010",
         "2",
         "1",
         "4103170.2399999946",
         "4372532.119999975",
         null,
         "4237851.179999985",
         "8475702.35999997"
        ],
        [
         "2",
         "2010",
         "3",
         "1",
         "4539853.380000033",
         "4103170.2399999946",
         "4372532.119999975",
         "4338518.580000001",
         "13015555.740000002"
        ],
        [
         "3",
         "2010",
         "4",
         "2",
         "4407951.329999989",
         "4539853.380000033",
         "4103170.2399999946",
         "4350324.983333339",
         "17423507.069999993"
        ],
        [
         "4",
         "2010",
         "5",
         "2",
         "4610601.800000024",
         "4407951.329999989",
         "4539853.380000033",
         "4519468.836666682",
         "22034108.870000016"
        ]
       ],
       "shape": {
        "columns": 8,
        "rows": 5
       }
      },
      "text/html": [
       "<div>\n",
       "<style scoped>\n",
       "    .dataframe tbody tr th:only-of-type {\n",
       "        vertical-align: middle;\n",
       "    }\n",
       "\n",
       "    .dataframe tbody tr th {\n",
       "        vertical-align: top;\n",
       "    }\n",
       "\n",
       "    .dataframe thead th {\n",
       "        text-align: right;\n",
       "    }\n",
       "</style>\n",
       "<table border=\"1\" class=\"dataframe\">\n",
       "  <thead>\n",
       "    <tr style=\"text-align: right;\">\n",
       "      <th></th>\n",
       "      <th>transaction_year</th>\n",
       "      <th>transaction_month</th>\n",
       "      <th>transaction_quarter</th>\n",
       "      <th>total_revenue</th>\n",
       "      <th>lag_1_month</th>\n",
       "      <th>lag_2_month</th>\n",
       "      <th>rolling_avg_3_months</th>\n",
       "      <th>cumulative_revenue</th>\n",
       "    </tr>\n",
       "  </thead>\n",
       "  <tbody>\n",
       "    <tr>\n",
       "      <th>0</th>\n",
       "      <td>2010</td>\n",
       "      <td>1</td>\n",
       "      <td>1</td>\n",
       "      <td>4372532.12</td>\n",
       "      <td>NaN</td>\n",
       "      <td>NaN</td>\n",
       "      <td>4.372532e+06</td>\n",
       "      <td>4372532.12</td>\n",
       "    </tr>\n",
       "    <tr>\n",
       "      <th>1</th>\n",
       "      <td>2010</td>\n",
       "      <td>2</td>\n",
       "      <td>1</td>\n",
       "      <td>4103170.24</td>\n",
       "      <td>4372532.12</td>\n",
       "      <td>NaN</td>\n",
       "      <td>4.237851e+06</td>\n",
       "      <td>8475702.36</td>\n",
       "    </tr>\n",
       "    <tr>\n",
       "      <th>2</th>\n",
       "      <td>2010</td>\n",
       "      <td>3</td>\n",
       "      <td>1</td>\n",
       "      <td>4539853.38</td>\n",
       "      <td>4103170.24</td>\n",
       "      <td>4372532.12</td>\n",
       "      <td>4.338519e+06</td>\n",
       "      <td>13015555.74</td>\n",
       "    </tr>\n",
       "    <tr>\n",
       "      <th>3</th>\n",
       "      <td>2010</td>\n",
       "      <td>4</td>\n",
       "      <td>2</td>\n",
       "      <td>4407951.33</td>\n",
       "      <td>4539853.38</td>\n",
       "      <td>4103170.24</td>\n",
       "      <td>4.350325e+06</td>\n",
       "      <td>17423507.07</td>\n",
       "    </tr>\n",
       "    <tr>\n",
       "      <th>4</th>\n",
       "      <td>2010</td>\n",
       "      <td>5</td>\n",
       "      <td>2</td>\n",
       "      <td>4610601.80</td>\n",
       "      <td>4407951.33</td>\n",
       "      <td>4539853.38</td>\n",
       "      <td>4.519469e+06</td>\n",
       "      <td>22034108.87</td>\n",
       "    </tr>\n",
       "  </tbody>\n",
       "</table>\n",
       "</div>"
      ],
      "text/plain": [
       "   transaction_year  transaction_month  transaction_quarter  total_revenue  \\\n",
       "0              2010                  1                    1     4372532.12   \n",
       "1              2010                  2                    1     4103170.24   \n",
       "2              2010                  3                    1     4539853.38   \n",
       "3              2010                  4                    2     4407951.33   \n",
       "4              2010                  5                    2     4610601.80   \n",
       "\n",
       "   lag_1_month  lag_2_month  rolling_avg_3_months  cumulative_revenue  \n",
       "0          NaN          NaN          4.372532e+06          4372532.12  \n",
       "1   4372532.12          NaN          4.237851e+06          8475702.36  \n",
       "2   4103170.24   4372532.12          4.338519e+06         13015555.74  \n",
       "3   4539853.38   4103170.24          4.350325e+06         17423507.07  \n",
       "4   4407951.33   4539853.38          4.519469e+06         22034108.87  "
      ]
     },
     "execution_count": 10,
     "metadata": {},
     "output_type": "execute_result"
    }
   ],
   "source": [
    "query = \"\"\"\n",
    "\n",
    "WITH monthly_revenue AS (\n",
    "    SELECT \n",
    "        YEAR(transaction_date) AS transaction_year,\n",
    "        MONTH(transaction_date) AS transaction_month,\n",
    "        QUARTER(transaction_date) AS transaction_quarter,\n",
    "        SUM(amount) AS total_revenue\n",
    "    FROM transactions\n",
    "    GROUP BY transaction_year, transaction_month, transaction_quarter\n",
    ")\n",
    "SELECT \n",
    "    transaction_year,\n",
    "    transaction_month,\n",
    "    transaction_quarter,\n",
    "    total_revenue,\n",
    "    LAG(total_revenue, 1) OVER (ORDER BY transaction_year, transaction_month) AS lag_1_month,\n",
    "    LAG(total_revenue, 2) OVER (ORDER BY transaction_year, transaction_month) AS lag_2_month,\n",
    "    AVG(total_revenue) OVER (ORDER BY transaction_year, transaction_month ROWS BETWEEN 2 PRECEDING AND CURRENT ROW) AS rolling_avg_3_months,\n",
    "    SUM(total_revenue) OVER (ORDER BY transaction_year, transaction_month) AS cumulative_revenue\n",
    "FROM monthly_revenue\n",
    "ORDER BY transaction_year, transaction_month;\n",
    "\n",
    "\n",
    "\"\"\"\n",
    "\n",
    "# Execute the query and display the resulting DataFrame\n",
    "financial_forecasting_data = run_query(query)\n",
    "financial_forecasting_data.head()"
   ]
  },
  {
   "cell_type": "code",
   "execution_count": 11,
   "metadata": {},
   "outputs": [],
   "source": [
    "# Save the DataFrame to a CSV \n",
    "financial_forecasting_data.to_csv(\"financial_forecasting_data.csv\", index=False)"
   ]
  },
  {
   "cell_type": "markdown",
   "metadata": {},
   "source": [
    "### 2 . Variance Analysis Features Extracted\n",
    "___\n",
    "\n"
   ]
  },
  {
   "cell_type": "markdown",
   "metadata": {},
   "source": [
    "The purpise of variance analysis is to compare budgeted vs. actual financial performance to identify key variance drivers. The following features will be engineered for variance analysis:"
   ]
  },
  {
   "cell_type": "markdown",
   "metadata": {},
   "source": [
    "\n",
    "| Feature                      | Description                                      | SQL Extraction                                                                 |\n",
    "|------------------------------|--------------------------------------------------|-------------------------------------------------------------------------------|\n",
    "| actual_spending              | Total actual spending per transaction            | `amount`                                                                      |\n",
    "| budgeted_spending            | Estimated budgeted spending using historical averages | `AVG(amount) OVER (PARTITION BY user_id, YEAR(transaction_date), MONTH(transaction_date))` |\n",
    "| variance                     | Difference between actual and budgeted spending  | `amount - budgeted_spending`                                                 |\n",
    "| variance_pct                 | Percentage variance                              | `((amount - budgeted_spending) / budgeted_spending) * 100`                   |\n",
    "| total_variance_by_customer   | Customer-level variance                          | `SUM(variance) OVER (PARTITION BY user_id)`                                  |\n",
    "| total_variance_by_merchant   | Merchant-level variance                          | `SUM(variance) OVER (PARTITION BY mcc_code)`                                 |\n",
    "| monthly_variance             | Variance grouped by time                         | `SUM(variance) OVER (PARTITION BY YEAR(transaction_date), MONTH(transaction_date))` |"
   ]
  },
  {
   "cell_type": "code",
   "execution_count": 12,
   "metadata": {},
   "outputs": [
    {
     "data": {
      "application/vnd.microsoft.datawrangler.viewer.v0+json": {
       "columns": [
        {
         "name": "index",
         "rawType": "int64",
         "type": "integer"
        },
        {
         "name": "transaction_id",
         "rawType": "int64",
         "type": "integer"
        },
        {
         "name": "user_id",
         "rawType": "int64",
         "type": "integer"
        },
        {
         "name": "actual_spending",
         "rawType": "float64",
         "type": "float"
        },
        {
         "name": "budgeted_spending",
         "rawType": "float64",
         "type": "float"
        },
        {
         "name": "variance",
         "rawType": "float64",
         "type": "float"
        },
        {
         "name": "variance_pct",
         "rawType": "float64",
         "type": "float"
        },
        {
         "name": "total_variance_by_customer",
         "rawType": "float64",
         "type": "float"
        },
        {
         "name": "total_variance_by_merchant",
         "rawType": "float64",
         "type": "float"
        },
        {
         "name": "monthly_variance",
         "rawType": "float64",
         "type": "float"
        }
       ],
       "conversionMethod": "pd.DataFrame",
       "ref": "658b0a06-f12c-4493-a809-aa0652bb9c80",
       "rows": [
        [
         "0",
         "22756662",
         "1727",
         "3261.63",
         "37.81342975206609",
         "3223.816570247934",
         "8525.586257014382",
         "3.420197458581242e-11",
         "635765.0295190403",
         "-2.962089240554633e-09"
        ],
        [
         "1",
         "22453398",
         "1081",
         "6613.44",
         "87.95964071856285",
         "6525.480359281437",
         "7418.7210247486955",
         "-4.18509671362699e-12",
         "635765.0295190403",
         "1.3664006814906315e-08"
        ],
        [
         "2",
         "19431468",
         "1147",
         "4613.24",
         "63.82884422110553",
         "4549.411155778895",
         "7127.516111712069",
         "-4.6707526735190186e-11",
         "635765.0295190403",
         "1.5874515923997023e-08"
        ],
        [
         "3",
         "10711855",
         "909",
         "1857.46",
         "26.045835616438364",
         "1831.4141643835617",
         "7031.504734014743",
         "1.3287149158713873e-10",
         "635765.0295190403",
         "6.21469098405214e-09"
        ],
        [
         "4",
         "17569196",
         "1507",
         "455.0",
         "6.401016949152541",
         "448.59898305084744",
         "7008.245511836044",
         "-7.080558361849398e-12",
         "2806424.8192450837",
         "-1.0643255166087329e-08"
        ]
       ],
       "shape": {
        "columns": 9,
        "rows": 5
       }
      },
      "text/html": [
       "<div>\n",
       "<style scoped>\n",
       "    .dataframe tbody tr th:only-of-type {\n",
       "        vertical-align: middle;\n",
       "    }\n",
       "\n",
       "    .dataframe tbody tr th {\n",
       "        vertical-align: top;\n",
       "    }\n",
       "\n",
       "    .dataframe thead th {\n",
       "        text-align: right;\n",
       "    }\n",
       "</style>\n",
       "<table border=\"1\" class=\"dataframe\">\n",
       "  <thead>\n",
       "    <tr style=\"text-align: right;\">\n",
       "      <th></th>\n",
       "      <th>transaction_id</th>\n",
       "      <th>user_id</th>\n",
       "      <th>actual_spending</th>\n",
       "      <th>budgeted_spending</th>\n",
       "      <th>variance</th>\n",
       "      <th>variance_pct</th>\n",
       "      <th>total_variance_by_customer</th>\n",
       "      <th>total_variance_by_merchant</th>\n",
       "      <th>monthly_variance</th>\n",
       "    </tr>\n",
       "  </thead>\n",
       "  <tbody>\n",
       "    <tr>\n",
       "      <th>0</th>\n",
       "      <td>22756662</td>\n",
       "      <td>1727</td>\n",
       "      <td>3261.63</td>\n",
       "      <td>37.813430</td>\n",
       "      <td>3223.816570</td>\n",
       "      <td>8525.586257</td>\n",
       "      <td>3.420197e-11</td>\n",
       "      <td>6.357650e+05</td>\n",
       "      <td>-2.962089e-09</td>\n",
       "    </tr>\n",
       "    <tr>\n",
       "      <th>1</th>\n",
       "      <td>22453398</td>\n",
       "      <td>1081</td>\n",
       "      <td>6613.44</td>\n",
       "      <td>87.959641</td>\n",
       "      <td>6525.480359</td>\n",
       "      <td>7418.721025</td>\n",
       "      <td>-4.185097e-12</td>\n",
       "      <td>6.357650e+05</td>\n",
       "      <td>1.366401e-08</td>\n",
       "    </tr>\n",
       "    <tr>\n",
       "      <th>2</th>\n",
       "      <td>19431468</td>\n",
       "      <td>1147</td>\n",
       "      <td>4613.24</td>\n",
       "      <td>63.828844</td>\n",
       "      <td>4549.411156</td>\n",
       "      <td>7127.516112</td>\n",
       "      <td>-4.670753e-11</td>\n",
       "      <td>6.357650e+05</td>\n",
       "      <td>1.587452e-08</td>\n",
       "    </tr>\n",
       "    <tr>\n",
       "      <th>3</th>\n",
       "      <td>10711855</td>\n",
       "      <td>909</td>\n",
       "      <td>1857.46</td>\n",
       "      <td>26.045836</td>\n",
       "      <td>1831.414164</td>\n",
       "      <td>7031.504734</td>\n",
       "      <td>1.328715e-10</td>\n",
       "      <td>6.357650e+05</td>\n",
       "      <td>6.214691e-09</td>\n",
       "    </tr>\n",
       "    <tr>\n",
       "      <th>4</th>\n",
       "      <td>17569196</td>\n",
       "      <td>1507</td>\n",
       "      <td>455.00</td>\n",
       "      <td>6.401017</td>\n",
       "      <td>448.598983</td>\n",
       "      <td>7008.245512</td>\n",
       "      <td>-7.080558e-12</td>\n",
       "      <td>2.806425e+06</td>\n",
       "      <td>-1.064326e-08</td>\n",
       "    </tr>\n",
       "  </tbody>\n",
       "</table>\n",
       "</div>"
      ],
      "text/plain": [
       "   transaction_id  user_id  actual_spending  budgeted_spending     variance  \\\n",
       "0        22756662     1727          3261.63          37.813430  3223.816570   \n",
       "1        22453398     1081          6613.44          87.959641  6525.480359   \n",
       "2        19431468     1147          4613.24          63.828844  4549.411156   \n",
       "3        10711855      909          1857.46          26.045836  1831.414164   \n",
       "4        17569196     1507           455.00           6.401017   448.598983   \n",
       "\n",
       "   variance_pct  total_variance_by_customer  total_variance_by_merchant  \\\n",
       "0   8525.586257                3.420197e-11                6.357650e+05   \n",
       "1   7418.721025               -4.185097e-12                6.357650e+05   \n",
       "2   7127.516112               -4.670753e-11                6.357650e+05   \n",
       "3   7031.504734                1.328715e-10                6.357650e+05   \n",
       "4   7008.245512               -7.080558e-12                2.806425e+06   \n",
       "\n",
       "   monthly_variance  \n",
       "0     -2.962089e-09  \n",
       "1      1.366401e-08  \n",
       "2      1.587452e-08  \n",
       "3      6.214691e-09  \n",
       "4     -1.064326e-08  "
      ]
     },
     "execution_count": 12,
     "metadata": {},
     "output_type": "execute_result"
    }
   ],
   "source": [
    "query = \"\"\"\n",
    "\n",
    "WITH user_budget AS (\n",
    "    -- Estimate budgeted spending using historical averages per user per month\n",
    "    SELECT \n",
    "        user_id,\n",
    "        YEAR(transaction_date) AS transaction_year,\n",
    "        MONTH(transaction_date) AS transaction_month,\n",
    "        AVG(amount) AS budgeted_spending\n",
    "    FROM transactions\n",
    "    GROUP BY user_id, transaction_year, transaction_month\n",
    "),\n",
    "transaction_variance AS (\n",
    "    -- Calculate actual spending, variance, and variance percentage\n",
    "    SELECT \n",
    "        t.transaction_id,\n",
    "        t.user_id,\n",
    "        t.amount AS actual_spending,\n",
    "        ub.budgeted_spending,\n",
    "        (t.amount - ub.budgeted_spending) AS variance,\n",
    "        CASE \n",
    "            WHEN ub.budgeted_spending <> 0 THEN ((t.amount - ub.budgeted_spending) / ub.budgeted_spending) * 100 \n",
    "            ELSE NULL \n",
    "        END AS variance_pct\n",
    "    FROM transactions t\n",
    "    LEFT JOIN user_budget ub \n",
    "    ON t.user_id = ub.user_id \n",
    "    AND YEAR(t.transaction_date) = ub.transaction_year \n",
    "    AND MONTH(t.transaction_date) = ub.transaction_month\n",
    ")\n",
    "SELECT \n",
    "    tv.*,\n",
    "    SUM(tv.variance) OVER (PARTITION BY tv.user_id) AS total_variance_by_customer,\n",
    "    SUM(tv.variance) OVER (PARTITION BY t.mcc_code) AS total_variance_by_merchant,\n",
    "    SUM(tv.variance) OVER (PARTITION BY YEAR(t.transaction_date), MONTH(t.transaction_date)) AS monthly_variance\n",
    "FROM transaction_variance tv\n",
    "JOIN transactions t ON tv.transaction_id = t.transaction_id\n",
    "ORDER BY variance_pct DESC;\n",
    "\n",
    "\n",
    "\"\"\"\n",
    "\n",
    "# Execute the query and display the resulting DataFrame\n",
    "spending_variance_analysis_data = run_query(query)\n",
    "spending_variance_analysis_data.head()"
   ]
  },
  {
   "cell_type": "code",
   "execution_count": 13,
   "metadata": {},
   "outputs": [],
   "source": [
    "# Save the DataFrame to a CSV \n",
    "spending_variance_analysis_data.to_csv(\"spending_variance_analysis_data.csv\", index=False)"
   ]
  },
  {
   "cell_type": "code",
   "execution_count": null,
   "metadata": {},
   "outputs": [],
   "source": []
  },
  {
   "cell_type": "markdown",
   "metadata": {},
   "source": [
    "### 3 . Customer Insights Features Extracted\n",
    "____\n"
   ]
  },
  {
   "cell_type": "markdown",
   "metadata": {},
   "source": [
    "The purpose of this is to identify customer spending patterns and anomalies in the transactions data. The query calculates the budgeted spending for each user based on historical averages per user per month. It then calculates the actual spending, variance, and variance percentage for each transaction. Additionally, it calculates the total variance by customer, total variance by merchant, and monthly variance. This analysis can help identify customers with significant spending variances, merchants with high variance in transactions, and months with unusual spending patterns."
   ]
  },
  {
   "cell_type": "markdown",
   "metadata": {},
   "source": [
    "\n",
    "\n",
    "| Feature                   | Description                                      | SQL Extraction                                                                 |\n",
    "|---------------------------|--------------------------------------------------|-------------------------------------------------------------------------------|\n",
    "| transaction_count         | Number of transactions per user                 | `COUNT(transaction_id)`                                                       |\n",
    "| total_spending            | Total amount spent per user                     | `SUM(amount)`                                                                 |\n",
    "| avg_transaction_value     | Average transaction amount                      | `AVG(amount)`                                                                 |\n",
    "| spending_by_category      | Spending distribution across merchant categories | `SUM(amount) OVER (PARTITION BY user_id, mcc_code)`                           |\n",
    "| transaction_frequency     | Number of transactions per month                | `COUNT(transaction_id) OVER (PARTITION BY user_id, YEAR(transaction_date), MONTH(transaction_date))` |"
   ]
  },
  {
   "cell_type": "code",
   "execution_count": null,
   "metadata": {},
   "outputs": [
    {
     "data": {
      "application/vnd.microsoft.datawrangler.viewer.v0+json": {
       "columns": [
        {
         "name": "index",
         "rawType": "int64",
         "type": "integer"
        },
        {
         "name": "user_id",
         "rawType": "int64",
         "type": "integer"
        },
        {
         "name": "mcc_code",
         "rawType": "int64",
         "type": "integer"
        },
        {
         "name": "transaction_count",
         "rawType": "int64",
         "type": "integer"
        },
        {
         "name": "total_spending",
         "rawType": "float64",
         "type": "float"
        },
        {
         "name": "avg_transaction_value",
         "rawType": "float64",
         "type": "float"
        },
        {
         "name": "transaction_frequency",
         "rawType": "int64",
         "type": "integer"
        }
       ],
       "conversionMethod": "pd.DataFrame",
       "ref": "de61bf27-0b44-4377-bb12-1097ee907c96",
       "rows": [
        [
         "0",
         "1556",
         "5499",
         "844",
         "14317.700000000004",
         "16.964099526066356",
         "6"
        ],
        [
         "1",
         "1556",
         "5499",
         "844",
         "14317.700000000004",
         "16.964099526066356",
         "3"
        ],
        [
         "2",
         "1556",
         "5499",
         "844",
         "14317.700000000004",
         "16.964099526066356",
         "6"
        ],
        [
         "3",
         "1556",
         "5499",
         "844",
         "14317.700000000004",
         "16.964099526066356",
         "6"
        ],
        [
         "4",
         "1556",
         "5499",
         "844",
         "14317.700000000004",
         "16.964099526066356",
         "3"
        ]
       ],
       "shape": {
        "columns": 6,
        "rows": 5
       }
      },
      "text/html": [
       "<div>\n",
       "<style scoped>\n",
       "    .dataframe tbody tr th:only-of-type {\n",
       "        vertical-align: middle;\n",
       "    }\n",
       "\n",
       "    .dataframe tbody tr th {\n",
       "        vertical-align: top;\n",
       "    }\n",
       "\n",
       "    .dataframe thead th {\n",
       "        text-align: right;\n",
       "    }\n",
       "</style>\n",
       "<table border=\"1\" class=\"dataframe\">\n",
       "  <thead>\n",
       "    <tr style=\"text-align: right;\">\n",
       "      <th></th>\n",
       "      <th>user_id</th>\n",
       "      <th>mcc_code</th>\n",
       "      <th>transaction_count</th>\n",
       "      <th>total_spending</th>\n",
       "      <th>avg_transaction_value</th>\n",
       "      <th>transaction_frequency</th>\n",
       "    </tr>\n",
       "  </thead>\n",
       "  <tbody>\n",
       "    <tr>\n",
       "      <th>0</th>\n",
       "      <td>1556</td>\n",
       "      <td>5499</td>\n",
       "      <td>844</td>\n",
       "      <td>14317.7</td>\n",
       "      <td>16.9641</td>\n",
       "      <td>6</td>\n",
       "    </tr>\n",
       "    <tr>\n",
       "      <th>1</th>\n",
       "      <td>1556</td>\n",
       "      <td>5499</td>\n",
       "      <td>844</td>\n",
       "      <td>14317.7</td>\n",
       "      <td>16.9641</td>\n",
       "      <td>3</td>\n",
       "    </tr>\n",
       "    <tr>\n",
       "      <th>2</th>\n",
       "      <td>1556</td>\n",
       "      <td>5499</td>\n",
       "      <td>844</td>\n",
       "      <td>14317.7</td>\n",
       "      <td>16.9641</td>\n",
       "      <td>6</td>\n",
       "    </tr>\n",
       "    <tr>\n",
       "      <th>3</th>\n",
       "      <td>1556</td>\n",
       "      <td>5499</td>\n",
       "      <td>844</td>\n",
       "      <td>14317.7</td>\n",
       "      <td>16.9641</td>\n",
       "      <td>6</td>\n",
       "    </tr>\n",
       "    <tr>\n",
       "      <th>4</th>\n",
       "      <td>1556</td>\n",
       "      <td>5499</td>\n",
       "      <td>844</td>\n",
       "      <td>14317.7</td>\n",
       "      <td>16.9641</td>\n",
       "      <td>3</td>\n",
       "    </tr>\n",
       "  </tbody>\n",
       "</table>\n",
       "</div>"
      ],
      "text/plain": [
       "   user_id  mcc_code  transaction_count  total_spending  \\\n",
       "0     1556      5499                844         14317.7   \n",
       "1     1556      5499                844         14317.7   \n",
       "2     1556      5499                844         14317.7   \n",
       "3     1556      5499                844         14317.7   \n",
       "4     1556      5499                844         14317.7   \n",
       "\n",
       "   avg_transaction_value  transaction_frequency  \n",
       "0                16.9641                      6  \n",
       "1                16.9641                      3  \n",
       "2                16.9641                      6  \n",
       "3                16.9641                      6  \n",
       "4                16.9641                      3  "
      ]
     },
     "execution_count": 18,
     "metadata": {},
     "output_type": "execute_result"
    }
   ],
   "source": [
    "\n",
    "query = \"\"\"\n",
    "WITH user_spending AS (\n",
    "    SELECT \n",
    "        t.user_id,\n",
    "        t.mcc_code,\n",
    "        COUNT(t.transaction_id) AS transaction_count,\n",
    "        SUM(t.amount) AS total_spending,\n",
    "        AVG(t.amount) AS avg_transaction_value\n",
    "    FROM transactions t\n",
    "    GROUP BY t.user_id, t.mcc_code\n",
    "),\n",
    "transaction_details AS (\n",
    "    SELECT \n",
    "        t.user_id,\n",
    "        t.mcc_code,\n",
    "        YEAR(t.transaction_date) AS transaction_year,\n",
    "        MONTH(t.transaction_date) AS transaction_month,\n",
    "        COUNT(t.transaction_id) AS monthly_transaction_count\n",
    "    FROM transactions t\n",
    "    GROUP BY t.user_id, t.mcc_code, transaction_year, transaction_month\n",
    ")\n",
    "SELECT \n",
    "    us.user_id,\n",
    "    us.mcc_code,\n",
    "    us.transaction_count,\n",
    "    us.total_spending,\n",
    "    us.avg_transaction_value,\n",
    "    td.monthly_transaction_count AS transaction_frequency\n",
    "FROM user_spending us\n",
    "LEFT JOIN transaction_details td\n",
    "ON us.user_id = td.user_id AND us.mcc_code = td.mcc_code;\n",
    "\n",
    "\"\"\"\n",
    "\n",
    "# Execute the query and display the resulting DataFrame\n",
    "customer_spending_segmentation_data = run_query(query)\n",
    "customer_spending_segmentation_data.head()\n"
   ]
  },
  {
   "cell_type": "code",
   "execution_count": 19,
   "metadata": {},
   "outputs": [],
   "source": [
    "# Save the DataFrame to a CSV \n",
    "customer_spending_segmentation_data.to_csv(\"customer_spending_segmentation_data.csv\", index=False)"
   ]
  },
  {
   "cell_type": "code",
   "execution_count": null,
   "metadata": {},
   "outputs": [],
   "source": []
  },
  {
   "cell_type": "markdown",
   "metadata": {},
   "source": [
    "### 4 Business Intelligence Features\n",
    "___\n"
   ]
  },
  {
   "cell_type": "markdown",
   "metadata": {},
   "source": [
    "The purpose of this is to develop Power BI dashboards for real-time financial tracking and variance monitoring. The query calculates the total revenue for each time period, the revenue from the previous month, revenue from two months ago, 3-month moving average of revenue, and cumulative revenue. These features can be used to track revenue trends, identify seasonality patterns, and forecast future revenue."
   ]
  },
  {
   "cell_type": "markdown",
   "metadata": {},
   "source": [
    "\n",
    "\n",
    "| Metric Category      | Description                                  |\n",
    "|----------------------|----------------------------------------------|\n",
    "| Revenue Trends       | Total revenue and growth trends             |\n",
    "| Spending Patterns    | High-spending users and categories          |\n",
    "| Variance Reports     | Budgeted vs. actual spending                |\n",
    "| Fraud Monitoring     | Transaction anomalies                       |"
   ]
  },
  {
   "cell_type": "code",
   "execution_count": 20,
   "metadata": {},
   "outputs": [
    {
     "data": {
      "application/vnd.microsoft.datawrangler.viewer.v0+json": {
       "columns": [
        {
         "name": "index",
         "rawType": "int64",
         "type": "integer"
        },
        {
         "name": "transaction_id",
         "rawType": "int64",
         "type": "integer"
        },
        {
         "name": "transaction_date",
         "rawType": "object",
         "type": "unknown"
        },
        {
         "name": "user_id",
         "rawType": "int64",
         "type": "integer"
        },
        {
         "name": "amount",
         "rawType": "float64",
         "type": "float"
        },
        {
         "name": "merchant_category",
         "rawType": "object",
         "type": "string"
        },
        {
         "name": "is_fraud",
         "rawType": "float64",
         "type": "float"
        }
       ],
       "conversionMethod": "pd.DataFrame",
       "ref": "c51c380d-2377-4626-afc6-73e657c3386c",
       "rows": [
        [
         "0",
         "7475327",
         "2010-01-01",
         "1556",
         "-77.0",
         "Miscellaneous Food Stores",
         "0.0"
        ],
        [
         "1",
         "7475328",
         "2010-01-01",
         "561",
         "14.57",
         "Department Stores",
         "0.0"
        ],
        [
         "2",
         "7475329",
         "2010-01-01",
         "1129",
         "80.0",
         "Money Transfer",
         "0.0"
        ],
        [
         "3",
         "7475331",
         "2010-01-01",
         "430",
         "200.0",
         "Money Transfer",
         null
        ],
        [
         "4",
         "7475332",
         "2010-01-01",
         "848",
         "46.41",
         "Drinking Places (Alcoholic Beverages)",
         "0.0"
        ]
       ],
       "shape": {
        "columns": 6,
        "rows": 5
       }
      },
      "text/html": [
       "<div>\n",
       "<style scoped>\n",
       "    .dataframe tbody tr th:only-of-type {\n",
       "        vertical-align: middle;\n",
       "    }\n",
       "\n",
       "    .dataframe tbody tr th {\n",
       "        vertical-align: top;\n",
       "    }\n",
       "\n",
       "    .dataframe thead th {\n",
       "        text-align: right;\n",
       "    }\n",
       "</style>\n",
       "<table border=\"1\" class=\"dataframe\">\n",
       "  <thead>\n",
       "    <tr style=\"text-align: right;\">\n",
       "      <th></th>\n",
       "      <th>transaction_id</th>\n",
       "      <th>transaction_date</th>\n",
       "      <th>user_id</th>\n",
       "      <th>amount</th>\n",
       "      <th>merchant_category</th>\n",
       "      <th>is_fraud</th>\n",
       "    </tr>\n",
       "  </thead>\n",
       "  <tbody>\n",
       "    <tr>\n",
       "      <th>0</th>\n",
       "      <td>7475327</td>\n",
       "      <td>2010-01-01</td>\n",
       "      <td>1556</td>\n",
       "      <td>-77.00</td>\n",
       "      <td>Miscellaneous Food Stores</td>\n",
       "      <td>0.0</td>\n",
       "    </tr>\n",
       "    <tr>\n",
       "      <th>1</th>\n",
       "      <td>7475328</td>\n",
       "      <td>2010-01-01</td>\n",
       "      <td>561</td>\n",
       "      <td>14.57</td>\n",
       "      <td>Department Stores</td>\n",
       "      <td>0.0</td>\n",
       "    </tr>\n",
       "    <tr>\n",
       "      <th>2</th>\n",
       "      <td>7475329</td>\n",
       "      <td>2010-01-01</td>\n",
       "      <td>1129</td>\n",
       "      <td>80.00</td>\n",
       "      <td>Money Transfer</td>\n",
       "      <td>0.0</td>\n",
       "    </tr>\n",
       "    <tr>\n",
       "      <th>3</th>\n",
       "      <td>7475331</td>\n",
       "      <td>2010-01-01</td>\n",
       "      <td>430</td>\n",
       "      <td>200.00</td>\n",
       "      <td>Money Transfer</td>\n",
       "      <td>NaN</td>\n",
       "    </tr>\n",
       "    <tr>\n",
       "      <th>4</th>\n",
       "      <td>7475332</td>\n",
       "      <td>2010-01-01</td>\n",
       "      <td>848</td>\n",
       "      <td>46.41</td>\n",
       "      <td>Drinking Places (Alcoholic Beverages)</td>\n",
       "      <td>0.0</td>\n",
       "    </tr>\n",
       "  </tbody>\n",
       "</table>\n",
       "</div>"
      ],
      "text/plain": [
       "   transaction_id transaction_date  user_id  amount  \\\n",
       "0         7475327       2010-01-01     1556  -77.00   \n",
       "1         7475328       2010-01-01      561   14.57   \n",
       "2         7475329       2010-01-01     1129   80.00   \n",
       "3         7475331       2010-01-01      430  200.00   \n",
       "4         7475332       2010-01-01      848   46.41   \n",
       "\n",
       "                       merchant_category  is_fraud  \n",
       "0              Miscellaneous Food Stores       0.0  \n",
       "1                      Department Stores       0.0  \n",
       "2                         Money Transfer       0.0  \n",
       "3                         Money Transfer       NaN  \n",
       "4  Drinking Places (Alcoholic Beverages)       0.0  "
      ]
     },
     "execution_count": 20,
     "metadata": {},
     "output_type": "execute_result"
    }
   ],
   "source": [
    "\n",
    "query = \"\"\"\n",
    "\n",
    "SELECT \n",
    "    t.transaction_id,\n",
    "    t.transaction_date,\n",
    "    t.user_id,\n",
    "    t.amount,\n",
    "    mc.category_description AS merchant_category,\n",
    "    f.is_fraud\n",
    "FROM transactions t\n",
    "LEFT JOIN mcc_codes mc ON t.mcc_code = mc.mcc_code\n",
    "LEFT JOIN fraud_labels f ON t.transaction_id = f.transaction_id;\n",
    "\n",
    "\n",
    "\"\"\"\n",
    "\n",
    "# Execute the query and display the resulting DataFrame\n",
    "business_intelligence_data = run_query(query)\n",
    "business_intelligence_data.head()\n"
   ]
  },
  {
   "cell_type": "code",
   "execution_count": 21,
   "metadata": {},
   "outputs": [],
   "source": [
    "# Save the DataFrame to a CSV \n",
    "business_intelligence_data.to_csv(\"business_intelligence_data.csv\", index=False)"
   ]
  },
  {
   "cell_type": "markdown",
   "metadata": {},
   "source": [
    "# 📚 4. Data Visualisation \n",
    "___\n",
    "\n",
    "<div style=\"font-family: Avenir, sans-serif; font-size: 16px; line-height: 1.6; color: white; background-color: #333; padding: 10px; border-radius: 5px;\">\n",
    "This section focuses on data visualization using Power BI, and python libraries such as Matplotlib, Seaborn, and Plotly. The goal is to create interactive dashboards and visualizations that provide insights into revenue trends, expense patterns, customer segmentation, and financial variances. The visualizations will be used to facilitate data-driven decision-making and enhance financial analysis.\n",
    "</div>"
   ]
  }
 ],
 "metadata": {
  "kernelspec": {
   "display_name": "machine-learning-env",
   "language": "python",
   "name": "python3"
  },
  "language_info": {
   "codemirror_mode": {
    "name": "ipython",
    "version": 3
   },
   "file_extension": ".py",
   "mimetype": "text/x-python",
   "name": "python",
   "nbconvert_exporter": "python",
   "pygments_lexer": "ipython3",
   "version": "3.10.13"
  }
 },
 "nbformat": 4,
 "nbformat_minor": 2
}
